{
 "cells": [
  {
   "cell_type": "markdown",
   "metadata": {},
   "source": [
    "<h2>Знакомство</h2>\n",
    "\n",
    "Меня зовут Клышинский Эдуард Станиславович. <br>\n",
    "В течение этого года мы будем заниматься изучением возможностей языка Питон, а также библиотек для него.<br>\n",
    "Со мной можно связаться по почте eklyshinsky@hse.ru<br>\n",
    "Помимо этого давайте заведем канал в Слаке или чем-нибудь похожем для оперативного общения."
   ]
  },
  {
   "cell_type": "markdown",
   "metadata": {},
   "source": [
    "<h2>Морфологический анализ</h2>\n",
    "\n",
    "На начальных этапах обработки текста проводится два этапа анализа: <b>графематический</b> (выделение предложений и слов) и <b>морфологический</b> (определение начальной формы слова, его части речи и грамматических параметров). Этап синтаксического анализа мы сейчас разбирать не будем, так как его информация требуется не всегда.<br>\n",
    "Задачей графематического анализа является разделение текста на составные части - врезки, абзацы, предложения, слова. В таких задачах как машинный перевод, точность данного этапа может существенно влиять на точность получаемых результатов. Например, точка, используемая для сокращений, может быть воспринята как конец предложения, что полность разорвет его семантику.<br>\n",
    "Задачей морфологического анализа является определение начальной формы слова, его части речи и грамматических параметров. В некоторых случаях от слова требуется только начальная форма, в других - только начальная форма и часть речи.<br>\n",
    "Существует два больших подхода к морфологическому анализу: <b>стемминг</b> и <b>поиск по словарю</b>. Для проведения стемминга оставляется справочник всех окончаний для данного языка. Для пришедшего слова проверяется его окончание и по нему делается прогноз начальной формы и части речи.<br>\n",
    "Например, мы создаем справочник, в котором записываем все окончания прилагательных: <i>-ому, -ему, -ой, -ая, -ий, -ый, ...</i> Теперь все слова, которые имеют такое окончание будут считаться прилагаельными: <i>синий, циклический, красного, больному</i>. Заодно прилагательными будут считаться причастия (<i>делающий, строившему</i>) и местоимения (<i>мой, твой, твоему</i>). Также не понятно что делать со словами, имеющими пустое окончание. Отдельную проблему составляют такие слова, как <i>стекло, больной, вина</i>, которые могут разбираться несколькими вариантами (это явление называется <b>омонимией</b>). Помимо этого, стеммер может просто откусывать окончания, оставляя лишь псевдооснову.<br>\n",
    "Большинство проблем здесь решается, но точность работы бессловарных стеммеров находится на уровне 80%. Чтобы повысить точность испольуют морфологический анализ со словарем. Разработчики составляют словарь слов, встретившихся в текстах (<a href=\"http://opencorpora.org/dict.php\">здесь</a> можно найти пример такого словаря). Теперь каждое слово будет искаться в словаре и не предсказываться, а выдаваться точно. Для слов, отсутствующих в словаре, может применяться предсказание, пообное работе стеммера.<br>\n",
    "Посмотрим как работает словарная морфология на примере системы <a href=\"https://pymorphy2.readthedocs.io/en/latest/\">pymorphy2</a>."
   ]
  },
  {
   "cell_type": "code",
   "execution_count": 10,
   "metadata": {},
   "outputs": [],
   "source": [
    "import pymorphy2 # Импортируем морфологический анализатор."
   ]
  },
  {
   "cell_type": "code",
   "execution_count": 96,
   "metadata": {},
   "outputs": [
    {
     "data": {
      "text/plain": [
       "method"
      ]
     },
     "execution_count": 96,
     "metadata": {},
     "output_type": "execute_result"
    }
   ],
   "source": [
    "type(morph.cyr2lat)"
   ]
  },
  {
   "cell_type": "code",
   "execution_count": 11,
   "metadata": {},
   "outputs": [
    {
     "name": "stdout",
     "output_type": "stream",
     "text": [
      "Parse(word='стекло', tag=OpencorporaTag('NOUN,inan,neut sing,nomn'), normal_form='стекло', score=0.75, methods_stack=((<DictionaryAnalyzer>, 'стекло', 545, 0),))\n",
      "Parse(word='стекло', tag=OpencorporaTag('NOUN,inan,neut sing,accs'), normal_form='стекло', score=0.1875, methods_stack=((<DictionaryAnalyzer>, 'стекло', 545, 3),))\n",
      "Parse(word='стекло', tag=OpencorporaTag('VERB,perf,intr neut,sing,past,indc'), normal_form='стечь', score=0.0625, methods_stack=((<DictionaryAnalyzer>, 'стекло', 968, 3),))\n"
     ]
    }
   ],
   "source": [
    "morph=pymorphy2.MorphAnalyzer() # Создает объект морфоанализатора и загружет словарь.\n",
    "wordform=morph.parse('стекло')  # Проведем анализ слова \"стекло\".\n",
    "for w in wordform: # Возвращается список вариантов разбора.\n",
    "    print(w)# Посмотрим на полученный результат."
   ]
  },
  {
   "cell_type": "code",
   "execution_count": 82,
   "metadata": {},
   "outputs": [
    {
     "name": "stdout",
     "output_type": "stream",
     "text": [
      "стекло\n",
      "стекло\n"
     ]
    }
   ],
   "source": [
    "morph=pymorphy2.MorphAnalyzer() # Создает объект морфоанализатора и загружет словарь.\n",
    "wordform=morph.parse('стекло')  # Проведем анализ слова \"стекло\".\n",
    "for w in wordform: # Возвращается список вариантов разбора.\n",
    "    if 'NOUN' in w.tag:\n",
    "        print(w.normal_form)# Посмотрим на полученный результат."
   ]
  },
  {
   "cell_type": "code",
   "execution_count": 85,
   "metadata": {},
   "outputs": [
    {
     "data": {
      "text/plain": [
       "[Parse(word='делавшихся', tag=OpencorporaTag('PRTF,impf,intr,past,actv plur,gent'), normal_form='делаться', score=0.3333333333333333, methods_stack=((<DictionaryAnalyzer>, 'делавшихся', 224, 61),)),\n",
       " Parse(word='делавшихся', tag=OpencorporaTag('PRTF,impf,intr,past,actv anim,plur,accs'), normal_form='делаться', score=0.3333333333333333, methods_stack=((<DictionaryAnalyzer>, 'делавшихся', 224, 63),)),\n",
       " Parse(word='делавшихся', tag=OpencorporaTag('PRTF,impf,intr,past,actv plur,loct'), normal_form='делаться', score=0.3333333333333333, methods_stack=((<DictionaryAnalyzer>, 'делавшихся', 224, 66),))]"
      ]
     },
     "execution_count": 85,
     "metadata": {},
     "output_type": "execute_result"
    }
   ],
   "source": [
    "morph.parse('делавшихся')"
   ]
  },
  {
   "cell_type": "markdown",
   "metadata": {},
   "source": [
    "Как видно из вывода, слово \"стекло\" может быть неодушевленным существительным среднего рода, единственного числа, именительного падежа <i>tag=OpencorporaTag('NOUN,inan,neut sing,nomn')</i>, аналогично, но в винительном падеже (<i>'NOUN,inan,neut sing,accs'</i>), и глаголом <i>'VERB,perf,intr neut,sing,past,indc'</i>. При этом в первой форме оно встречается в 75% случаев (<i>score=0.75</i>), во второй в 18,75% случаев (<i>score=0.1875</i>), а как глагол - лишь в 6,25% (<i>score=0.0625</i>). Самым простым видом борьбы с омонимией является выбор нулевого элемента из списка, возвращенного морфологическим анализом. Такой подход дает около 90% точности при выборе начальной формы и до 80% если мы обращаем внимание на грамматические параметры.<br>"
   ]
  },
  {
   "cell_type": "markdown",
   "metadata": {},
   "source": [
    "Вместо Pymorphy можно использовать PyMystem. Его плюсом является тот факт, что он сам проводит графематический анализ и снимает омонимию. Используя функцию lemmatize можно получить набор начальных форм слов. Используя функцию analyze можно получить полную информацию о словах."
   ]
  },
  {
   "cell_type": "code",
   "execution_count": 13,
   "metadata": {},
   "outputs": [],
   "source": [
    "import pymystem3"
   ]
  },
  {
   "cell_type": "code",
   "execution_count": 84,
   "metadata": {},
   "outputs": [
    {
     "name": "stdout",
     "output_type": "stream",
     "text": [
      "[{'analysis': [{'lex': 'система', 'wt': 1, 'gr': 'S,жен,неод=(вин,мн|род,ед|им,мн)'}], 'text': 'Системы'}, {'text': ' '}, {'analysis': [{'lex': 'делаться', 'wt': 1, 'gr': 'V,несов,нп=(прош,вин,ед,прич,полн,муж,действ,од|прош,род,ед,прич,полн,муж,действ|прош,род,ед,прич,полн,сред,действ)'}], 'text': 'делавшегося'}, {'text': ' '}, {'analysis': [{'lex': 'проектирование', 'wt': 1, 'gr': 'S,сред,неод=(вин,мн|род,ед|им,мн)'}], 'text': 'проектирования'}, {'text': '\\n'}]\n"
     ]
    }
   ],
   "source": [
    "print(mystem.analyze('Системы делавшегося проектирования'))"
   ]
  },
  {
   "cell_type": "code",
   "execution_count": 14,
   "metadata": {},
   "outputs": [
    {
     "name": "stdout",
     "output_type": "stream",
     "text": [
      "['этот', ' ', 'тип', ' ', 'становиться', ' ', 'есть', ' ', 'в', ' ', 'цех', '\\n']\n",
      "\n",
      "[{'analysis': [{'lex': 'этот', 'wt': 1, 'gr': 'APRO=(им,мн|вин,мн,неод)'}], 'text': 'эти'}, {'text': ' '}, {'analysis': [{'lex': 'тип', 'wt': 0.8700298667, 'gr': 'S,муж,неод=(вин,мн|им,мн)'}], 'text': 'типы'}, {'text': ' '}, {'analysis': [{'lex': 'становиться', 'wt': 0.9821285009, 'gr': 'V,нп=прош,мн,изъяв,сов'}], 'text': 'стали'}, {'text': ' '}, {'analysis': [{'lex': 'есть', 'wt': 0.04922361672, 'gr': 'V,несов,пе=инф'}], 'text': 'есть'}, {'text': ' '}, {'analysis': [{'lex': 'в', 'wt': 0.9999917746, 'gr': 'PR='}], 'text': 'в'}, {'text': ' '}, {'analysis': [{'lex': 'цех', 'wt': 1, 'gr': 'S,муж,неод=(дат,ед|местн,ед)'}], 'text': 'цеху'}, {'text': '\\n'}]\n"
     ]
    }
   ],
   "source": [
    "mystem=pymystem3.Mystem()\n",
    "print(mystem.lemmatize('эти типы стали есть в цеху'))\n",
    "print()\n",
    "print(mystem.analyze('эти типы стали есть в цеху'))"
   ]
  },
  {
   "cell_type": "markdown",
   "metadata": {},
   "source": [
    "Функция `lemmatize` делит текст на слова и знаки препинания, а затем возвращает для них только начальную форму.\n",
    "\n",
    "Функция `analyze` возвращает не только начальную форму, но и всю информацию о слове, как это делал перед этим Pymorphy. \n",
    "\n",
    "Основным отличием является то, что Mystem снимает омонимию. Как видно из примера, делает он это не всегда корректно, но нам не придется думать о том, какое вариант разбора следует взять.\n",
    "\n",
    "Еще одна библиотека - NLTK. По сравнению с двумя предыдущими библиотеками она обладает более широкой функциональностью и изначально писалась для работы с разными языками."
   ]
  },
  {
   "cell_type": "code",
   "execution_count": 1,
   "metadata": {},
   "outputs": [],
   "source": [
    "import nltk # Иностранный морфологический анализатор."
   ]
  },
  {
   "cell_type": "markdown",
   "metadata": {},
   "source": [
    "Перед началом использования необходимо загрузить необходимые библиотеки или корпуса."
   ]
  },
  {
   "cell_type": "code",
   "execution_count": null,
   "metadata": {},
   "outputs": [],
   "source": [
    "nltk.download() # По дороге будут появляться поле ввода. Грузит всё из Сети."
   ]
  },
  {
   "cell_type": "code",
   "execution_count": null,
   "metadata": {},
   "outputs": [],
   "source": [
    "nltk.download('averaged_perceprton_tagger') # Сразу грузит что попросили."
   ]
  },
  {
   "cell_type": "markdown",
   "metadata": {},
   "source": [
    "Функция `word_tokenize` возвращает начальные формы слов. \n",
    "\n",
    "Функция `pos_tag` возвращает список начальных форм и их частей речи."
   ]
  },
  {
   "cell_type": "code",
   "execution_count": 3,
   "metadata": {},
   "outputs": [
    {
     "data": {
      "text/plain": [
       "(['Эти', 'типы', 'стали', 'есть', 'в', 'цеху'],\n",
       " [('Эти', 'типы'),\n",
       "  ('типы', 'стали'),\n",
       "  ('стали', 'есть'),\n",
       "  ('есть', 'в'),\n",
       "  ('в', 'цеху')])"
      ]
     },
     "execution_count": 3,
     "metadata": {},
     "output_type": "execute_result"
    }
   ],
   "source": [
    "tokens = nltk.word_tokenize('Эти типы стали есть в цеху') # Токенизация.\n",
    "bi_tokens = list(nltk.bigrams(tokens))\n",
    "tokens, bi_tokens"
   ]
  },
  {
   "cell_type": "code",
   "execution_count": 4,
   "metadata": {},
   "outputs": [
    {
     "data": {
      "text/plain": [
       "([('Эти', 'JJ'),\n",
       "  ('типы', 'NNP'),\n",
       "  ('стали', 'NNP'),\n",
       "  ('есть', 'NNP'),\n",
       "  ('в', 'NNP'),\n",
       "  ('цеху', 'NN')],\n",
       " [(('Эти', 'JJ'), ('типы', 'NNP')),\n",
       "  (('типы', 'NNP'), ('стали', 'NNP')),\n",
       "  (('стали', 'NNP'), ('есть', 'NNP')),\n",
       "  (('есть', 'NNP'), ('в', 'NNP')),\n",
       "  (('в', 'NNP'), ('цеху', 'NN'))])"
      ]
     },
     "execution_count": 4,
     "metadata": {},
     "output_type": "execute_result"
    }
   ],
   "source": [
    "pos = nltk.pos_tag(tokens) # Частеречная разметка.\n",
    "bi_pos = list(nltk.bigrams(pos))\n",
    "pos, bi_pos"
   ]
  },
  {
   "cell_type": "markdown",
   "metadata": {},
   "source": [
    "У NLTK заведен список стоп-слов, которые лучше фильтровать при анализе текстов. Но их не очень много. Зато самые мешающиеся."
   ]
  },
  {
   "cell_type": "code",
   "execution_count": 5,
   "metadata": {},
   "outputs": [
    {
     "name": "stdout",
     "output_type": "stream",
     "text": [
      "всего русских стоп-слов 151\n"
     ]
    },
    {
     "data": {
      "text/plain": [
       "['Эти', 'типы', 'стали', 'цеху']"
      ]
     },
     "execution_count": 5,
     "metadata": {},
     "output_type": "execute_result"
    }
   ],
   "source": [
    "# Оставим только те слова, которых нет в списке стоп-слов.\n",
    "filtered_words = [token for token in tokens if token not in nltk.corpus.stopwords.words('russian')]\n",
    "print('всего русских стоп-слов', len(nltk.corpus.stopwords.words('russian')))\n",
    "filtered_words"
   ]
  },
  {
   "cell_type": "markdown",
   "metadata": {},
   "source": [
    "Ниже приведены примеры функций морфологического анализа текста для разных библиотек."
   ]
  },
  {
   "cell_type": "code",
   "execution_count": 8,
   "metadata": {},
   "outputs": [],
   "source": [
    "import re # Подгружаем библиотеку с регулярными выражениями."
   ]
  },
  {
   "cell_type": "code",
   "execution_count": 12,
   "metadata": {},
   "outputs": [
    {
     "data": {
      "text/plain": [
       "['милый_ADJF', 'мама_NOUN', 'мыло_NOUN', 'белый_ADJF', 'рам_NOUN']"
      ]
     },
     "execution_count": 12,
     "metadata": {},
     "output_type": "execute_result"
    }
   ],
   "source": [
    "# Pymorphy\n",
    "def normalizePymorphy(morph, text):\n",
    "    tokens = re.findall('[A-Za-zА-Яа-яЁё]+\\-[A-Za-zА-Яа-яЁё]+|[A-Za-zА-Яа-яЁё]+', text)\n",
    "    words = []\n",
    "    for t in tokens:\n",
    "        pv = morph.parse(t)\n",
    "        words.append(pv[0].normal_form + '_' + str(pv[0].tag.POS)) # Берем наиболее вероятную форму.\n",
    "    return words    \n",
    "        \n",
    "# Обратите внимание, что про иностранные слова словарь ничего не знает.\n",
    "normalizePymorphy(morph, \"Милая мама мыла белую раму.\")"
   ]
  },
  {
   "cell_type": "code",
   "execution_count": 15,
   "metadata": {},
   "outputs": [
    {
     "data": {
      "text/plain": [
       "['милый_A', 'мама_S', 'мыло_S', 'белый_A', 'рама_S']"
      ]
     },
     "execution_count": 15,
     "metadata": {},
     "output_type": "execute_result"
    }
   ],
   "source": [
    "# PyMystem\n",
    "def normalizePymystem(mystem, text):\n",
    "    tokens = mystem.analyze(text)\n",
    "    words = []\n",
    "    for t in tokens:\n",
    "        if 'analysis' in t.keys():\n",
    "            if t['analysis'] != []:\n",
    "                words.append(t['analysis'][0]['lex']+'_'+t['analysis'][0]['gr'][0])\n",
    "            else:\n",
    "                words.append(t['text']+'_'+'U')\n",
    "    return words    \n",
    "        \n",
    "# Не все считают, что причастие всегда выступает в роли глагола, но иногда так значительно проще.\n",
    "normalizePymystem(mystem, \"Милая мама мыла белую раму.\")"
   ]
  },
  {
   "cell_type": "code",
   "execution_count": 16,
   "metadata": {},
   "outputs": [
    {
     "data": {
      "text/plain": [
       "['Милая_JJ', 'мама_NNP', 'мыла_NNP', 'белую_NNP', 'раму_NNP']"
      ]
     },
     "execution_count": 16,
     "metadata": {},
     "output_type": "execute_result"
    }
   ],
   "source": [
    "# NLTK\n",
    "def normalizeNLTK(text):\n",
    "    tokens = nltk.pos_tag(nltk.word_tokenize(text))\n",
    "    words = []\n",
    "    for t in tokens:\n",
    "        if t[0] != t[1]:\n",
    "            words.append(t[0]+'_'+t[1])\n",
    "    return words    \n",
    "        \n",
    "# А вот здесь с частеречной разметкой всё плохо, а параметров нет вовсе.\n",
    "normalizeNLTK(\"Милая мама мыла белую раму.\")"
   ]
  },
  {
   "cell_type": "markdown",
   "metadata": {},
   "source": [
    "Но мы будем использовать pymorphy, так как он немного пошустрее."
   ]
  },
  {
   "cell_type": "markdown",
   "metadata": {},
   "source": [
    "Теперь посмотрим с какой скоростью работают эти анализаторы."
   ]
  },
  {
   "cell_type": "code",
   "execution_count": 88,
   "metadata": {},
   "outputs": [
    {
     "data": {
      "text/plain": [
       "[('Марсианин', ''),\n",
       " ('Игра', ''),\n",
       " ('слов', ''),\n",
       " ('англ', ''),\n",
       " ('возможность', ''),\n",
       " ('прим', ''),\n",
       " ('пер', '')]"
      ]
     },
     "execution_count": 88,
     "metadata": {},
     "output_type": "execute_result"
    }
   ],
   "source": [
    "re.findall(\"([А-ЯЁа-яё]+(-[А-ЯЁа-яё]+)*)\", textWP)[:10]"
   ]
  },
  {
   "cell_type": "code",
   "execution_count": 93,
   "metadata": {},
   "outputs": [
    {
     "data": {
      "text/plain": [
       "\"\\n            Лев Николаевич Толстой. Война и мир. Том 1\\n\\n             * ЧАСТЬ ПЕРВАЯ. * \\n\\n\\n          \\n          \\n\\n            I.\\n\\n\\n          \\n               -- Еh bien, mon prince. Gênes et Lucques ne sont plus que des apanages,\\n          des поместья, de la famille Buonaparte.  Non, je  vous préviens, que si vous\\n          ne  me dites pas, que nous avons la guerre, si vous vous permettez encore de\\n          pallier  toutes les infamies, toutes les  atrocités  de cet  Antichrist  (ma\\n          parole, j'y  crois) -- je  ne  vous  connais plus, vous n'êtes plus mon ami,\\n          vous n'êtes  plus  мой  верный  раб,  comme  vous  dites.  [1]  Ну,\\n          здравствуйте, здравствуйте.  Je vois  que  je  vous fais  peur, [2]\\n          садитесь и рассказывайте.\\n               Так говорила в и\""
      ]
     },
     "execution_count": 93,
     "metadata": {},
     "output_type": "execute_result"
    }
   ],
   "source": [
    "textWP[:800]"
   ]
  },
  {
   "cell_type": "code",
   "execution_count": 92,
   "metadata": {},
   "outputs": [],
   "source": [
    "with open(\"data/war_and_peace.txt\") as fil:\n",
    "    textWP=fil.read()\n",
    "# Выделяем все слова написанные русской кириллицей.\n",
    "words=[w[0] for w in re.findall(\"([А-ЯЁа-яё]+(-[А-ЯЁа-яё]+)*)\", textWP)]\n",
    "newtext=\" \".join(words)"
   ]
  },
  {
   "cell_type": "code",
   "execution_count": 18,
   "metadata": {},
   "outputs": [
    {
     "name": "stdout",
     "output_type": "stream",
     "text": [
      "445508\n"
     ]
    }
   ],
   "source": [
    "print(len(words)) # Вся \"Война и мир\" занимает примерно 450 000 слов."
   ]
  },
  {
   "cell_type": "code",
   "execution_count": 22,
   "metadata": {},
   "outputs": [
    {
     "name": "stdout",
     "output_type": "stream",
     "text": [
      "CPU times: user 8.34 s, sys: 0 ns, total: 8.34 s\n",
      "Wall time: 8.4 s\n"
     ]
    }
   ],
   "source": [
    "%%time\n",
    "iniMorphy=[]\n",
    "for w in words:\n",
    "    r=morph.parse(w)\n",
    "    iniMorphy.append(r[0].normal_form) # Берем только начальные формы слов, остальное нам не надо."
   ]
  },
  {
   "cell_type": "markdown",
   "metadata": {},
   "source": [
    "Теперь посмотрим на скорость работы PyMyStem."
   ]
  },
  {
   "cell_type": "code",
   "execution_count": 23,
   "metadata": {},
   "outputs": [
    {
     "name": "stdout",
     "output_type": "stream",
     "text": [
      "CPU times: user 2 s, sys: 151 ms, total: 2.15 s\n",
      "Wall time: 20.8 s\n"
     ]
    }
   ],
   "source": [
    "%%time\n",
    "iniStem=mystem.lemmatize(newtext)"
   ]
  },
  {
   "cell_type": "code",
   "execution_count": 24,
   "metadata": {},
   "outputs": [
    {
     "name": "stdout",
     "output_type": "stream",
     "text": [
      "CPU times: user 1.59 s, sys: 72.5 ms, total: 1.67 s\n",
      "Wall time: 19.6 s\n"
     ]
    }
   ],
   "source": [
    "%%time\n",
    "iniStem=mystem.analyze(newtext)"
   ]
  },
  {
   "cell_type": "markdown",
   "metadata": {},
   "source": [
    "<h2>Борьба за производительность</h2>"
   ]
  },
  {
   "cell_type": "markdown",
   "metadata": {},
   "source": [
    "Примерно 50 000 слов в секунду для PyMorphy и 25 000 (со снятием омонимии) для MyStem.<br>\n",
    "Хорошо, но хочется быстрее.<br>\n",
    "Давайте посмотрим на статистику встречаемости слов."
   ]
  },
  {
   "cell_type": "code",
   "execution_count": 44,
   "metadata": {},
   "outputs": [],
   "source": [
    "from collections import Counter # Импортируем счетчик из стандартных библиотек."
   ]
  },
  {
   "cell_type": "code",
   "execution_count": 45,
   "metadata": {},
   "outputs": [
    {
     "name": "stdout",
     "output_type": "stream",
     "text": [
      "и : 20324\n",
      "в : 10202\n",
      "не : 8434\n",
      "что : 7298\n",
      "на : 6441\n",
      "он : 5986\n",
      "с : 5748\n",
      "его : 3864\n",
      "как : 3681\n",
      "к : 3408\n"
     ]
    }
   ],
   "source": [
    "frqs=Counter(words) # Считаем сколько раз встречается каждое слово, ...\n",
    "frqsSorted=sorted(frqs.items(), key=lambda x: x[1], reverse=True) # ... сортируем, ...\n",
    "for x in frqsSorted[:10]: # ... и выводим 10 самых частоных слов.\n",
    "    print(x[0], \":\", frqs[x[0]])"
   ]
  },
  {
   "cell_type": "code",
   "execution_count": 46,
   "metadata": {},
   "outputs": [
    {
     "name": "stdout",
     "output_type": "stream",
     "text": [
      "0.16921357192238973\n",
      "0.3676791438088654\n"
     ]
    }
   ],
   "source": [
    "print(sum([x[1] for x in frqsSorted[:10]])/len(words))\n",
    "print(sum([x[1] for x in frqsSorted[:100]])/len(words))"
   ]
  },
  {
   "cell_type": "markdown",
   "metadata": {},
   "source": [
    "Сто самых частотных словоформ занимает примерно треть текста!<br>\n",
    "Возможно, если мы сумеем кешировать результаты работы морфологического анализатора, он начнет работать быстрее. Используем для этого обычный питоновский словарь."
   ]
  },
  {
   "cell_type": "code",
   "execution_count": 94,
   "metadata": {},
   "outputs": [
    {
     "name": "stdout",
     "output_type": "stream",
     "text": [
      "CPU times: user 1.46 s, sys: 7.55 ms, total: 1.46 s\n",
      "Wall time: 1.46 s\n"
     ]
    }
   ],
   "source": [
    "%%time\n",
    "iniMorphy2=[]\n",
    "cash={} # Словарь для кеширования.\n",
    "for w in words:\n",
    "    if w in cash.keys(): # Если слово было закешировано, возьмем его из словаря.\n",
    "        iniMorphy2.append(cash[w])\n",
    "    else: # В противном случае проведем морфологический анализ.\n",
    "        r=morph.parse(w)\n",
    "        iniMorphy2.append(r[0].normal_form)\n",
    "        cash[w]=r[0].normal_form \n",
    "    # Вообще-то, можно было кешировать все результаты. Но нам же нужна только наиболее вероятная начальная форма."
   ]
  },
  {
   "cell_type": "markdown",
   "metadata": {},
   "source": [
    "Ускорение почти в 6,5 раз!<br>\n",
    "Имеет смысл сделать из этого какую-то удобную обертку, чтобы повторно использовать в своих дальнейших разработках."
   ]
  },
  {
   "cell_type": "markdown",
   "metadata": {},
   "source": [
    "# ftp://cosyco.ru/\n",
    "## user: 321\n",
    "## No password\n",
    "## file: 20190909.zip"
   ]
  },
  {
   "cell_type": "markdown",
   "metadata": {},
   "source": [
    "<h2>Создание и использование классов</h2>"
   ]
  },
  {
   "cell_type": "markdown",
   "metadata": {},
   "source": [
    "Создадим свой собственный класс.<br>\n",
    "Класс - это тип, определенный пользователем (программистом). Класс содержит в себе как данные, так и функции, которые работают с этими данными.<br>\n",
    "Так как это тип, то можно создавать переменные этого типа. Каждая переменная будет хранить и обрабатывать свой набор данных.<br>\n",
    "В каждую функцию класса обязательно передается переменная, которая обычно называется self. Эта переменная содержит в себе объект, для которого производится вызов функции. Мы можем обращаться к свойствам данного объекта, используя или модифицируя тем самым этот объект."
   ]
  },
  {
   "cell_type": "code",
   "execution_count": 100,
   "metadata": {},
   "outputs": [],
   "source": [
    "# Ключевое слово class после которого идет название нашего класса.\n",
    "class FasterMorphology:\n",
    "    \n",
    "    def __init__(self): # Функция инициализации объекта после его создания.\n",
    "        # Создаем новую морфологию в каждом объекте. \n",
    "        # А вдруг мы будем потом работать с разными языками? У каждого объекта должна быть своя.\n",
    "        self.morpho=pymorphy2.MorphAnalyzer() \n",
    "        self.cash={} # Создаем словарь для кеширования.\n",
    "        \n",
    "    def analyzeWords(self, words) -> list:\n",
    "        \"\"\" Multiline comment after a function comes to its documentation.\n",
    "            The function's documentation is accessible by Shift+Tab.\n",
    "            \n",
    "            This function analyses a list of tokens using pymorphy2 and hashes result for faster processing.\n",
    "            \n",
    "            words - list of words.\n",
    "        \"\"\"\n",
    "        res=[]\n",
    "        for w in words:\n",
    "            if w in self.cash:\n",
    "                res.append(self.cash[w])\n",
    "            else:\n",
    "                r=self.morpho.parse(w)[0].normal_form\n",
    "                res.append(r)\n",
    "                self.cash[w]=r\n",
    "        return res"
   ]
  },
  {
   "cell_type": "markdown",
   "metadata": {},
   "source": [
    "Для создания объекта необходимо вызвать функцию с тем же именем, что и имя его типа."
   ]
  },
  {
   "cell_type": "code",
   "execution_count": 101,
   "metadata": {},
   "outputs": [],
   "source": [
    "fast=FasterMorphology()"
   ]
  },
  {
   "cell_type": "markdown",
   "metadata": {},
   "source": [
    "Теперь у нас есть переменная нужного типа и мы можем обращаться к ее полям, а также вызывать ее методы."
   ]
  },
  {
   "cell_type": "code",
   "execution_count": 102,
   "metadata": {},
   "outputs": [
    {
     "name": "stdout",
     "output_type": "stream",
     "text": [
      "CPU times: user 1.31 s, sys: 14.7 ms, total: 1.32 s\n",
      "Wall time: 1.33 s\n"
     ]
    }
   ],
   "source": [
    "%%time\n",
    "res=fast.analyzeWords(words) # Нажмите Shift+Tabчтобы посмотреть документацию."
   ]
  },
  {
   "cell_type": "code",
   "execution_count": 53,
   "metadata": {},
   "outputs": [
    {
     "data": {
      "text/plain": [
       "['левый',\n",
       " 'николай',\n",
       " 'толстой',\n",
       " 'война',\n",
       " 'и',\n",
       " 'мир',\n",
       " 'тот',\n",
       " 'часть',\n",
       " 'один',\n",
       " 'е']"
      ]
     },
     "execution_count": 53,
     "metadata": {},
     "output_type": "execute_result"
    }
   ],
   "source": [
    "res[:10]"
   ]
  },
  {
   "cell_type": "code",
   "execution_count": 54,
   "metadata": {},
   "outputs": [
    {
     "name": "stdout",
     "output_type": "stream",
     "text": [
      "['Лев', 'Николаевич', 'Толстой', 'Война', 'и', 'мир', 'Том', 'ЧАСТЬ', 'ПЕРВАЯ', 'Е']\n",
      "52659\n"
     ]
    }
   ],
   "source": [
    "print(list(fast.cash.keys())[:10])\n",
    "print(len(fast.cash.keys()))"
   ]
  },
  {
   "cell_type": "markdown",
   "metadata": {},
   "source": [
    "А теперь еще раз то же самое, но с заполненным кешем."
   ]
  },
  {
   "cell_type": "code",
   "execution_count": 105,
   "metadata": {},
   "outputs": [
    {
     "name": "stdout",
     "output_type": "stream",
     "text": [
      "CPU times: user 140 ms, sys: 4.03 ms, total: 144 ms\n",
      "Wall time: 143 ms\n"
     ]
    }
   ],
   "source": [
    "%%time\n",
    "res=fast.analyzeWords(words)"
   ]
  },
  {
   "cell_type": "markdown",
   "metadata": {},
   "source": [
    "Ускорение в 10 раз!<br>\n",
    "Правда, заодно мы выяснили, что слова надо приводить к единому написанию, устраняя, например, заглавные буквы. Повторим эксперимент без них."
   ]
  },
  {
   "cell_type": "code",
   "execution_count": 106,
   "metadata": {},
   "outputs": [],
   "source": [
    "words2=[w[0].lower() for w in re.findall(\"([А-ЯЁа-яё]+(-[А-ЯЁа-яё]+)*)\", textWP)]"
   ]
  },
  {
   "cell_type": "code",
   "execution_count": 107,
   "metadata": {},
   "outputs": [],
   "source": [
    "fast2=FasterMorphology()"
   ]
  },
  {
   "cell_type": "code",
   "execution_count": 108,
   "metadata": {},
   "outputs": [
    {
     "name": "stdout",
     "output_type": "stream",
     "text": [
      "CPU times: user 1.26 s, sys: 7.41 ms, total: 1.27 s\n",
      "Wall time: 1.27 s\n"
     ]
    }
   ],
   "source": [
    "%%time\n",
    "res=fast2.analyzeWords(words2)"
   ]
  },
  {
   "cell_type": "markdown",
   "metadata": {},
   "source": [
    "<h2>Векторизация текстов</h2>"
   ]
  },
  {
   "cell_type": "markdown",
   "metadata": {},
   "source": [
    "Теперь напишем класс, отвечающий за векторизацию текста."
   ]
  },
  {
   "cell_type": "code",
   "execution_count": 38,
   "metadata": {},
   "outputs": [],
   "source": [
    "import math\n",
    "import numpy as np"
   ]
  },
  {
   "cell_type": "code",
   "execution_count": 33,
   "metadata": {},
   "outputs": [],
   "source": [
    "# Другое имя класса, так как он обладает несколько иной функциональностью.\n",
    "class FasterMorphology2:\n",
    "    \"\"\" Класс для быстрого морфологического анализа текстов и их векторизации.\n",
    "    \"\"\"\n",
    "    \n",
    "    def __init__(self): # Функция инициализации объекта после его создания.\n",
    "        self.morpho=pymorphy2.MorphAnalyzer()\n",
    "        self.cash={}\n",
    "        self.dictionary={} # Добавим словарь для запоминания, на каком месте вектора находится какая начальная форма.\n",
    "        \n",
    "    def analyzeWords(self, words):\n",
    "        \"\"\" Проводит морфологический анализ списка токенов words.\n",
    "            Возвращает список начальных форм слов.\n",
    "        \"\"\"\n",
    "        res=[]\n",
    "        for w in words:\n",
    "            if w in self.cash: # Сперва ищем очередное слово в кеше.\n",
    "                res.append(self.cash[w])\n",
    "            else: # Если его там нет, проводим морфологический анализ и кешируем.\n",
    "                r=self.morpho.parse(w)[0].normal_form\n",
    "                res.append(r)\n",
    "                self.cash[w]=r\n",
    "                if r not in self.dictionary: # Также для каждой начальной формы запоминаем ее позицию в векторе.\n",
    "                    self.dictionary[r]=len(self.dictionary)+1\n",
    "        return res\n",
    "    \n",
    "    def analyzeText(self, text):\n",
    "        \"\"\" Проводит морфологический анализ строки с текстом text. \n",
    "            Выделяет из нее слова, написанные русской кириллицей.\n",
    "            Возвращает список начальных форм слов.\n",
    "        \"\"\"\n",
    "        words=[w[0] for w in re.findall(\"([А-ЯЁа-яё]+(-[А-ЯЁа-яё]+)*)\", textWP)]\n",
    "        return self.analyzeWords(words)\n",
    "        \n",
    "    # Вообще-то тоже самое умеет Counter, но ему надо сперва привести слова к начальной форме.\n",
    "    def vectorizeAsDict(self, words):\n",
    "        \"\"\" Возвращает векторное разреженное представление текста в виде словаря.\n",
    "            Текст передается как список токенов words.\n",
    "            Вместо позиции для индексации используется само слово.\n",
    "            Возвращает словарь с начальными формами в ключах и частотами этих форм.\n",
    "        \"\"\"\n",
    "        vct = {}\n",
    "        res = []\n",
    "        for w in words: # Для каждого слова прповодим анализ.\n",
    "            if w in self.cash:\n",
    "                vct[self.cash[w]]=vct.get(self.cash[w], 0)+1 # Считаем частоты слов.\n",
    "            else:\n",
    "                r=self.morpho.parse(w)[0].normal_form\n",
    "                res.append(r)\n",
    "                self.cash[w]=r\n",
    "                vct[r]=vct.get(r, 0)+1\n",
    "                if r not in self.dictionary:\n",
    "                    self.dictionary[r]=len(self.dictionary)\n",
    "        return vct\n",
    "    \n",
    "    def clearDict(self):\n",
    "        \"\"\" Очищает словарь. Вдруг надо пересчитать так как изменилась размерность пространства.\n",
    "        \"\"\"\n",
    "        self.dictionary={}\n",
    "    \n",
    "    def formDict(self, texts):\n",
    "        \"\"\" Сформировать словарь по тексту не формируя разметку текста.\n",
    "        \"\"\"\n",
    "        for text in texts:\n",
    "            for word in text:\n",
    "                if word not in self.cash:\n",
    "                    r=self.morpho.parse(w)[0].normal_form\n",
    "                    self.cash[word]=r\n",
    "                    if r not in self.dictionary:\n",
    "                        self.dictionary[r]=len(self.dictionary)\n",
    "    \n",
    "    def vectorizeAsList(self, words):\n",
    "        \"\"\" Возвращает векторное представление текста в виде плотного списка (включает нули).\n",
    "            Текст передается как список токенов words.\n",
    "            Позиция каждого слова в векторе определяется числом, хранимым в dictionary.\n",
    "            Возвращает словарь с начальными формами в ключах и частотами этих форм.\n",
    "        \"\"\"\n",
    "        # Сперва обновляем dictionary.\n",
    "        for word in words:\n",
    "            if word not in self.cash:\n",
    "                r=self.morpho.parse(w)[0].normal_form\n",
    "                self.cash[word]=r\n",
    "                if r not in self.dictionary:\n",
    "                    self.dictionary[r]=len(self.dictionary.keys())\n",
    "        # Теперь, когда все слова есть в кеше и словаре и известен размер вектора, можно приступать к векторизации.\n",
    "        vct=[0 for _ in self.dictionary]\n",
    "        for word in words:\n",
    "            vct[self.dictionary[self.cash[word]]]+=1\n",
    "        return vct\n",
    "    \n",
    "    def vectorizeAsList2(self, words):\n",
    "        \"\"\" Возвращает векторное представление текста в виде плотного списка (включает нули).\n",
    "            Текст передается как список токенов words. В вектор включаются только слова, находящиес в словаре.\n",
    "            Позиция каждого слова в векторе определяется числом, хранимым в dictionary.\n",
    "            Возвращает словарь с начальными формами в ключах и частотами этих форм.\n",
    "        \"\"\"\n",
    "        vct=[0 for _ in self.dictionary]\n",
    "        for word in words:\n",
    "            if word in self.cash:\n",
    "                vct[self.dictionary[self.cash[word]]]+=1\n",
    "        return vct\n",
    "\n",
    "    def vectorizeAsArray(self, words):\n",
    "        \"\"\" Возвращает векторное представление текста в виде плотного массива (включает нули).\n",
    "            Текст передается как список токенов words.\n",
    "            Позиция каждого слова в векторе определяется числом, хранимым в dictionary.\n",
    "            Возвращает словарь с начальными формами в ключах и частотами этих форм.\n",
    "        \"\"\"\n",
    "        # Сперва обновляем dictionary.\n",
    "        for word in words:\n",
    "            if word not in self.cash:\n",
    "                r=self.morpho.parse(w)[0].normal_form\n",
    "                self.cash[word]=r\n",
    "                if r not in self.dictionary:\n",
    "                    self.dictionary[r]=len(self.dictionary.keys())\n",
    "        # Теперь, когда все слова есть в кеше и словаре и известен размер вектора, можно приступать к векторизации.\n",
    "        vct=np.zeros((len(self.dictionary)))\n",
    "        for word in words:\n",
    "            vct[self.dictionary[self.cash[word]]]+=1\n",
    "        return vct\n",
    "\n",
    "    # Здесь мы заложили проблему. Функция не умеет считать расстояние между p.array.\n",
    "    def cosineSimilarity(self, a, b):\n",
    "        \"\"\" Функция расчета косинусной меры сходства между двумя векторными представлениями текста.\n",
    "            Работает по-разному в зависимости от представления вектора.\n",
    "        \"\"\"\n",
    "        if type(a)!=type(b): # Тип векторов должен совпадать.\n",
    "            return None\n",
    "        if isinstance(a, list): # Если это списки, значит это плотное представление вектора.\n",
    "            if len(a)==0 or len(b)==0 or len(a)!=len(b): # Длины векторов в этом случае должны совпадать.\n",
    "                return 0\n",
    "            sumab=sum([a[na]*b[na] for na in range(len(a))])\n",
    "            suma2=sum([a[na]*a[na] for na in range(len(a))])\n",
    "            sumb2=sum([b[na]*b[na] for na in range(len(a))])\n",
    "            return sumab/math.sqrt(suma2*sumb2)        \n",
    "        elif isinstance(a, dict): # Разреженное представление вектора - хранятся только ненулевые значения.\n",
    "            if len(a.keys())==0 or len(b.keys())==0: # Вектора должны хранить хоть что-то.\n",
    "                return 0\n",
    "            sumab=sum([a[na]*b[na] for na in set(a.keys())&set(b.keys())])\n",
    "#            sumab=sum([a[na]*b[na] for na in a.keys() if na in b.keys()])\n",
    "            suma2=sum([a[na]*a[na] for na in a.keys()])\n",
    "            sumb2=sum([b[nb]*b[nb] for nb in b.keys()])\n",
    "            return sumab/math.sqrt(suma2*sumb2)  \n",
    "        return 0\n",
    "    \n",
    "    def JaccardCoefficient(self, a, b):\n",
    "        \"\"\" Коэффициент Жаккара - отношение количества слов, встречающихся в обоих текстах к объединению лексики.\n",
    "        \"\"\"\n",
    "        if type(a)!=type(b): # Тип векторов должен совпадать.\n",
    "            return None\n",
    "        if isinstance(a, list): # Если это списки, значит это плотное представление вектора.\n",
    "            if len(a)==0 or len(b)==0 or len(a)!=len(b): # Длины векторов в этом случае должны совпадать.\n",
    "                return 0\n",
    "            union=len(a)-[aa*bb for aa, bb in zip(a, b)].count(0)\n",
    "            intersection=len(a)-[aa+bb for aa, bb in zip(a, b)].count(0)\n",
    "            return union/intersection\n",
    "        elif isinstance(a, dict): # Разреженное представление вектора - хранятся только ненулевые значения.\n",
    "            if len(a.keys())==0 or len(b.keys())==0: # Вектора должны хранить хоть что-то.\n",
    "                return 0\n",
    "            return len(set(a.keys())&set(b.keys()))/len(set(a.keys())|set(b.keys()))\n",
    "        return 0\n",
    "        "
   ]
  },
  {
   "cell_type": "markdown",
   "metadata": {},
   "source": [
    "Для определения меры сходства двух текстов используется косинусная мера сходства, рассчитываемая по следующей формуле: $cos(a,b)=\\frac{\\sum{a_i * b_i}}{\\sqrt {\\sum{a_i^2}*\\sum{b_i^2}}}$.<br>\n",
    "Вообще-то, использовать стандартную функцию рассчета косинусной меры сходства из <a href=\"http://scikit-learn.org/stable/modules/generated/sklearn.metrics.pairwise.cosine_similarity.html\">sklearn</a> было бы быстрее. Но мне хотелось показать как работать с разными типами входа."
   ]
  },
  {
   "cell_type": "markdown",
   "metadata": {},
   "source": [
    "Посмотрим как работает новая морфология. Возьмем также один из \"Севастопольских рассказов\" того же автора, чтобы было что использовать при расчете косинусной меры сходства."
   ]
  },
  {
   "cell_type": "code",
   "execution_count": 35,
   "metadata": {},
   "outputs": [],
   "source": [
    "faster3=FasterMorphology2()"
   ]
  },
  {
   "cell_type": "code",
   "execution_count": 62,
   "metadata": {},
   "outputs": [],
   "source": [
    "with open(\"data/sebastopol.txt\") as fil:\n",
    "    textWP=fil.read()\n",
    "words3=[w[0].lower() for w in re.findall(\"([А-ЯЁа-яё]+(-[А-ЯЁа-яё]+)*)\", textWP)]\n",
    "newtext3=\" \".join(words3)"
   ]
  },
  {
   "cell_type": "markdown",
   "metadata": {},
   "source": [
    "Создадим плотное и разреженное представление для двух текстов."
   ]
  },
  {
   "cell_type": "code",
   "execution_count": 63,
   "metadata": {},
   "outputs": [],
   "source": [
    "vd1=faster3.vectorizeAsDict(words)\n",
    "vd2=faster3.vectorizeAsDict(words3)\n",
    "vl1=faster3.vectorizeAsList(words)\n",
    "vl2=faster3.vectorizeAsList(words3)"
   ]
  },
  {
   "cell_type": "markdown",
   "metadata": {},
   "source": [
    "Посмотрим как быстро считается разреженное и плотное предствления."
   ]
  },
  {
   "cell_type": "code",
   "execution_count": 71,
   "metadata": {},
   "outputs": [
    {
     "name": "stdout",
     "output_type": "stream",
     "text": [
      "CPU times: user 3 µs, sys: 0 ns, total: 3 µs\n",
      "Wall time: 5.72 µs\n",
      "CPU times: user 4 µs, sys: 0 ns, total: 4 µs\n",
      "Wall time: 8.82 µs\n",
      "0.9573318479299211 0.9573318479299211\n"
     ]
    }
   ],
   "source": [
    "%time\n",
    "r1=faster3.cosineSimilarity(vd1, vd2)\n",
    "%time\n",
    "r2=faster3.cosineSimilarity(vl1, vl2)\n",
    "print(r1, r2)"
   ]
  },
  {
   "cell_type": "code",
   "execution_count": 72,
   "metadata": {},
   "outputs": [
    {
     "name": "stdout",
     "output_type": "stream",
     "text": [
      "533 15363 18891\n"
     ]
    }
   ],
   "source": [
    "print(vl1.count(0), vl2.count(0), len(vl1))"
   ]
  },
  {
   "cell_type": "code",
   "execution_count": 73,
   "metadata": {},
   "outputs": [
    {
     "name": "stdout",
     "output_type": "stream",
     "text": [
      "CPU times: user 8 µs, sys: 0 ns, total: 8 µs\n",
      "Wall time: 16.5 µs\n",
      "CPU times: user 4 µs, sys: 1e+03 ns, total: 5 µs\n",
      "Wall time: 9.06 µs\n",
      "0.15854110422952727 0.15854110422952727\n"
     ]
    }
   ],
   "source": [
    "%time\n",
    "r1=faster3.JaccardCoefficient(vd1, vd2)\n",
    "%time\n",
    "r2=faster3.JaccardCoefficient(vl1, vl2)\n",
    "print(r1, r2)"
   ]
  },
  {
   "cell_type": "code",
   "execution_count": 76,
   "metadata": {},
   "outputs": [
    {
     "name": "stdout",
     "output_type": "stream",
     "text": [
      "589928\n",
      "158200\n"
     ]
    }
   ],
   "source": [
    "import sys\n",
    "print(sys.getsizeof(vd1))\n",
    "print(sys.getsizeof(vl1))"
   ]
  },
  {
   "cell_type": "markdown",
   "metadata": {},
   "source": [
    "Разницs по скорости почти нет при разнице словарей 6 раз. И с памятью все тоже не так однозначно.<br>\n",
    "Видимо, поиск по словарю и хранение строк обходится довольно дорого.<br>\n",
    "Попробуем заменить слова на их номера."
   ]
  },
  {
   "cell_type": "code",
   "execution_count": 290,
   "metadata": {},
   "outputs": [
    {
     "name": "stdout",
     "output_type": "stream",
     "text": [
      "589928\n"
     ]
    }
   ],
   "source": [
    "vdd1={faster3.dictionary[w]: f  for w, f in vd1.items()}\n",
    "print(sys.getsizeof(vdd1))"
   ]
  },
  {
   "cell_type": "markdown",
   "metadata": {},
   "source": [
    "Легче не стало. Попробуем с numpy.array."
   ]
  },
  {
   "cell_type": "code",
   "execution_count": 77,
   "metadata": {},
   "outputs": [
    {
     "name": "stdout",
     "output_type": "stream",
     "text": [
      "151224\n"
     ]
    }
   ],
   "source": [
    "va1=faster3.vectorizeAsArray(words)\n",
    "print(sys.getsizeof(va1))"
   ]
  },
  {
   "cell_type": "markdown",
   "metadata": {},
   "source": [
    "Ну хоть здесь какой-то выигрыш. Мораль - проще разработать свой собственный класс для разреженного хранения на основе общего для всех словаря с индексом и двумя массивами для индекса слов конкретного текста и их частот.<br>\n",
    "Хорошо, продолжим с косинусной мерой. Попробуем посчитать сходство с \"Марсианином\" Энди Вейра."
   ]
  },
  {
   "cell_type": "code",
   "execution_count": 78,
   "metadata": {},
   "outputs": [],
   "source": [
    "with open(\"index_split_017.xhtml\") as fil: # Грузим главу 15, она побольше.\n",
    "    textWP=fil.read()\n",
    "words4=[w[0].lower() for w in re.findall(\"([А-ЯЁа-яё]+(-[А-ЯЁа-яё]+)*)\", textWP)]\n",
    "newtext4=\" \".join(words4)"
   ]
  },
  {
   "cell_type": "code",
   "execution_count": 79,
   "metadata": {},
   "outputs": [],
   "source": [
    "# Считаем вектора.\n",
    "vd3=faster3.vectorizeAsDict(words4)\n",
    "vl3=faster3.vectorizeAsList(words4)"
   ]
  },
  {
   "cell_type": "code",
   "execution_count": 84,
   "metadata": {},
   "outputs": [
    {
     "name": "stdout",
     "output_type": "stream",
     "text": [
      "0.7861664581749179\n",
      "0.7785426864805731\n",
      "CPU times: user 11.4 ms, sys: 0 ns, total: 11.4 ms\n",
      "Wall time: 11.1 ms\n"
     ]
    }
   ],
   "source": [
    "%%time\n",
    "print(faster3.cosineSimilarity(vd1, vd3))\n",
    "print(faster3.cosineSimilarity(vd2, vd3))"
   ]
  },
  {
   "cell_type": "code",
   "execution_count": 81,
   "metadata": {},
   "outputs": [
    {
     "name": "stdout",
     "output_type": "stream",
     "text": [
      "0\n",
      "0\n",
      "CPU times: user 306 µs, sys: 20 µs, total: 326 µs\n",
      "Wall time: 209 µs\n"
     ]
    }
   ],
   "source": [
    "%%time\n",
    "print(faster3.cosineSimilarity(vl1, vl3))\n",
    "print(faster3.cosineSimilarity(vl2, vl3))"
   ]
  },
  {
   "cell_type": "markdown",
   "metadata": {},
   "source": [
    "Что-то пошло не так. Постараемся понять что именно."
   ]
  },
  {
   "cell_type": "code",
   "execution_count": 178,
   "metadata": {
    "scrolled": true
   },
   "outputs": [
    {
     "ename": "IndexError",
     "evalue": "list index out of range",
     "output_type": "error",
     "traceback": [
      "\u001b[0;31m---------------------------------------------------------------------------\u001b[0m",
      "\u001b[0;31mIndexError\u001b[0m                                Traceback (most recent call last)",
      "\u001b[0;32m<ipython-input-178-cf414399cbea>\u001b[0m in \u001b[0;36m<module>\u001b[0;34m()\u001b[0m\n\u001b[0;32m----> 1\u001b[0;31m \u001b[0msumab\u001b[0m\u001b[0;34m=\u001b[0m\u001b[0msum\u001b[0m\u001b[0;34m(\u001b[0m\u001b[0;34m[\u001b[0m\u001b[0mvl1\u001b[0m\u001b[0;34m[\u001b[0m\u001b[0mna\u001b[0m\u001b[0;34m]\u001b[0m\u001b[0;34m*\u001b[0m\u001b[0mvl3\u001b[0m\u001b[0;34m[\u001b[0m\u001b[0mna\u001b[0m\u001b[0;34m]\u001b[0m \u001b[0;32mfor\u001b[0m \u001b[0mna\u001b[0m \u001b[0;32min\u001b[0m \u001b[0mrange\u001b[0m\u001b[0;34m(\u001b[0m\u001b[0mlen\u001b[0m\u001b[0;34m(\u001b[0m\u001b[0mvl3\u001b[0m\u001b[0;34m)\u001b[0m\u001b[0;34m)\u001b[0m\u001b[0;34m]\u001b[0m\u001b[0;34m)\u001b[0m\u001b[0;34m\u001b[0m\u001b[0m\n\u001b[0m\u001b[1;32m      2\u001b[0m \u001b[0msuma2\u001b[0m\u001b[0;34m=\u001b[0m\u001b[0msum\u001b[0m\u001b[0;34m(\u001b[0m\u001b[0;34m[\u001b[0m\u001b[0mvl1\u001b[0m\u001b[0;34m[\u001b[0m\u001b[0mna\u001b[0m\u001b[0;34m]\u001b[0m\u001b[0;34m*\u001b[0m\u001b[0mvl1\u001b[0m\u001b[0;34m[\u001b[0m\u001b[0mna\u001b[0m\u001b[0;34m]\u001b[0m \u001b[0;32mfor\u001b[0m \u001b[0mna\u001b[0m \u001b[0;32min\u001b[0m \u001b[0mrange\u001b[0m\u001b[0;34m(\u001b[0m\u001b[0mlen\u001b[0m\u001b[0;34m(\u001b[0m\u001b[0mvl3\u001b[0m\u001b[0;34m)\u001b[0m\u001b[0;34m)\u001b[0m\u001b[0;34m]\u001b[0m\u001b[0;34m)\u001b[0m\u001b[0;34m\u001b[0m\u001b[0m\n\u001b[1;32m      3\u001b[0m \u001b[0msumb2\u001b[0m\u001b[0;34m=\u001b[0m\u001b[0msum\u001b[0m\u001b[0;34m(\u001b[0m\u001b[0;34m[\u001b[0m\u001b[0mvl3\u001b[0m\u001b[0;34m[\u001b[0m\u001b[0mna\u001b[0m\u001b[0;34m]\u001b[0m\u001b[0;34m*\u001b[0m\u001b[0mvl3\u001b[0m\u001b[0;34m[\u001b[0m\u001b[0mna\u001b[0m\u001b[0;34m]\u001b[0m \u001b[0;32mfor\u001b[0m \u001b[0mna\u001b[0m \u001b[0;32min\u001b[0m \u001b[0mrange\u001b[0m\u001b[0;34m(\u001b[0m\u001b[0mlen\u001b[0m\u001b[0;34m(\u001b[0m\u001b[0mvl3\u001b[0m\u001b[0;34m)\u001b[0m\u001b[0;34m)\u001b[0m\u001b[0;34m]\u001b[0m\u001b[0;34m)\u001b[0m\u001b[0;34m\u001b[0m\u001b[0m\n\u001b[1;32m      4\u001b[0m \u001b[0msumab\u001b[0m\u001b[0;34m/\u001b[0m\u001b[0mmath\u001b[0m\u001b[0;34m.\u001b[0m\u001b[0msqrt\u001b[0m\u001b[0;34m(\u001b[0m\u001b[0msuma2\u001b[0m\u001b[0;34m*\u001b[0m\u001b[0msumb2\u001b[0m\u001b[0;34m)\u001b[0m\u001b[0;34m\u001b[0m\u001b[0m\n",
      "\u001b[0;32m<ipython-input-178-cf414399cbea>\u001b[0m in \u001b[0;36m<listcomp>\u001b[0;34m(.0)\u001b[0m\n\u001b[0;32m----> 1\u001b[0;31m \u001b[0msumab\u001b[0m\u001b[0;34m=\u001b[0m\u001b[0msum\u001b[0m\u001b[0;34m(\u001b[0m\u001b[0;34m[\u001b[0m\u001b[0mvl1\u001b[0m\u001b[0;34m[\u001b[0m\u001b[0mna\u001b[0m\u001b[0;34m]\u001b[0m\u001b[0;34m*\u001b[0m\u001b[0mvl3\u001b[0m\u001b[0;34m[\u001b[0m\u001b[0mna\u001b[0m\u001b[0;34m]\u001b[0m \u001b[0;32mfor\u001b[0m \u001b[0mna\u001b[0m \u001b[0;32min\u001b[0m \u001b[0mrange\u001b[0m\u001b[0;34m(\u001b[0m\u001b[0mlen\u001b[0m\u001b[0;34m(\u001b[0m\u001b[0mvl3\u001b[0m\u001b[0;34m)\u001b[0m\u001b[0;34m)\u001b[0m\u001b[0;34m]\u001b[0m\u001b[0;34m)\u001b[0m\u001b[0;34m\u001b[0m\u001b[0m\n\u001b[0m\u001b[1;32m      2\u001b[0m \u001b[0msuma2\u001b[0m\u001b[0;34m=\u001b[0m\u001b[0msum\u001b[0m\u001b[0;34m(\u001b[0m\u001b[0;34m[\u001b[0m\u001b[0mvl1\u001b[0m\u001b[0;34m[\u001b[0m\u001b[0mna\u001b[0m\u001b[0;34m]\u001b[0m\u001b[0;34m*\u001b[0m\u001b[0mvl1\u001b[0m\u001b[0;34m[\u001b[0m\u001b[0mna\u001b[0m\u001b[0;34m]\u001b[0m \u001b[0;32mfor\u001b[0m \u001b[0mna\u001b[0m \u001b[0;32min\u001b[0m \u001b[0mrange\u001b[0m\u001b[0;34m(\u001b[0m\u001b[0mlen\u001b[0m\u001b[0;34m(\u001b[0m\u001b[0mvl3\u001b[0m\u001b[0;34m)\u001b[0m\u001b[0;34m)\u001b[0m\u001b[0;34m]\u001b[0m\u001b[0;34m)\u001b[0m\u001b[0;34m\u001b[0m\u001b[0m\n\u001b[1;32m      3\u001b[0m \u001b[0msumb2\u001b[0m\u001b[0;34m=\u001b[0m\u001b[0msum\u001b[0m\u001b[0;34m(\u001b[0m\u001b[0;34m[\u001b[0m\u001b[0mvl3\u001b[0m\u001b[0;34m[\u001b[0m\u001b[0mna\u001b[0m\u001b[0;34m]\u001b[0m\u001b[0;34m*\u001b[0m\u001b[0mvl3\u001b[0m\u001b[0;34m[\u001b[0m\u001b[0mna\u001b[0m\u001b[0;34m]\u001b[0m \u001b[0;32mfor\u001b[0m \u001b[0mna\u001b[0m \u001b[0;32min\u001b[0m \u001b[0mrange\u001b[0m\u001b[0;34m(\u001b[0m\u001b[0mlen\u001b[0m\u001b[0;34m(\u001b[0m\u001b[0mvl3\u001b[0m\u001b[0;34m)\u001b[0m\u001b[0;34m)\u001b[0m\u001b[0;34m]\u001b[0m\u001b[0;34m)\u001b[0m\u001b[0;34m\u001b[0m\u001b[0m\n\u001b[1;32m      4\u001b[0m \u001b[0msumab\u001b[0m\u001b[0;34m/\u001b[0m\u001b[0mmath\u001b[0m\u001b[0;34m.\u001b[0m\u001b[0msqrt\u001b[0m\u001b[0;34m(\u001b[0m\u001b[0msuma2\u001b[0m\u001b[0;34m*\u001b[0m\u001b[0msumb2\u001b[0m\u001b[0;34m)\u001b[0m\u001b[0;34m\u001b[0m\u001b[0m\n",
      "\u001b[0;31mIndexError\u001b[0m: list index out of range"
     ]
    }
   ],
   "source": [
    "sumab=sum([vl1[na]*vl3[na] for na in range(len(vl3))])\n",
    "suma2=sum([vl1[na]*vl1[na] for na in range(len(vl3))])\n",
    "sumb2=sum([vl3[na]*vl3[na] for na in range(len(vl3))])\n",
    "sumab/math.sqrt(suma2*sumb2) "
   ]
  },
  {
   "cell_type": "markdown",
   "metadata": {},
   "source": [
    "Ну конечно же! Надо же пересчитать все вектора, а то размерность пространства изменилась! Со словарями такой проблемы не было."
   ]
  },
  {
   "cell_type": "code",
   "execution_count": 82,
   "metadata": {},
   "outputs": [],
   "source": [
    "vl1=faster3.vectorizeAsList(words)\n",
    "vl2=faster3.vectorizeAsList(words3)"
   ]
  },
  {
   "cell_type": "code",
   "execution_count": 85,
   "metadata": {},
   "outputs": [
    {
     "name": "stdout",
     "output_type": "stream",
     "text": [
      "0.7861664581749179\n",
      "0.7785426864805731\n",
      "CPU times: user 19.3 ms, sys: 0 ns, total: 19.3 ms\n",
      "Wall time: 18.8 ms\n"
     ]
    }
   ],
   "source": [
    "%%time\n",
    "print(faster3.cosineSimilarity(vl1, vl3))\n",
    "print(faster3.cosineSimilarity(vl2, vl3))"
   ]
  },
  {
   "cell_type": "code",
   "execution_count": 86,
   "metadata": {},
   "outputs": [
    {
     "data": {
      "text/plain": [
       "(960, 15790, 17715, 19318)"
      ]
     },
     "execution_count": 86,
     "metadata": {},
     "output_type": "execute_result"
    }
   ],
   "source": [
    "vl1.count(0), vl2.count(0), vl3.count(0), len(vl1)"
   ]
  },
  {
   "cell_type": "markdown",
   "metadata": {},
   "source": [
    "Теперь попробуем построить вектора для всего текста \"Марсианина\"."
   ]
  },
  {
   "cell_type": "code",
   "execution_count": 87,
   "metadata": {},
   "outputs": [],
   "source": [
    "words5=[]\n",
    "for i in range(2, 33):\n",
    "    with open(\"data/veyr/index_split_0\"+\"{:0>2}\".format(i)+\".xhtml\") as fil:\n",
    "        textWP=fil.read()\n",
    "    words6=[w[0].lower() for w in re.findall(\"([А-ЯЁа-яё]+(-[А-ЯЁа-яё]+)*)\", textWP)]\n",
    "    words5+=words6\n",
    "newtext5=\" \".join(words5)"
   ]
  },
  {
   "cell_type": "code",
   "execution_count": 88,
   "metadata": {},
   "outputs": [],
   "source": [
    "vd4=faster3.vectorizeAsDict(words5)\n",
    "vl4=faster3.vectorizeAsList(words5)"
   ]
  },
  {
   "cell_type": "code",
   "execution_count": 89,
   "metadata": {},
   "outputs": [],
   "source": [
    "vl1=faster3.vectorizeAsList(words)\n",
    "vl2=faster3.vectorizeAsList(words3)\n",
    "vl3=faster3.vectorizeAsList(words4)"
   ]
  },
  {
   "cell_type": "code",
   "execution_count": 90,
   "metadata": {},
   "outputs": [
    {
     "name": "stdout",
     "output_type": "stream",
     "text": [
      "0.8042099465818117\n",
      "0.8078103349350544\n",
      "0.8822254560518593\n",
      "CPU times: user 22.9 ms, sys: 3.94 ms, total: 26.8 ms\n",
      "Wall time: 25.4 ms\n"
     ]
    }
   ],
   "source": [
    "%%time\n",
    "print(faster3.cosineSimilarity(vd1, vd4))\n",
    "print(faster3.cosineSimilarity(vd2, vd4))\n",
    "print(faster3.cosineSimilarity(vd3, vd4))"
   ]
  },
  {
   "cell_type": "markdown",
   "metadata": {},
   "source": [
    "Да, глава из \"Марсианина\" больше похожа на всё произведение, чем на Толстого. Но общая мера сходства довольно большая. То есть по-хорошему, речь идет в большой степени об одинаковых вещах."
   ]
  },
  {
   "cell_type": "code",
   "execution_count": 91,
   "metadata": {},
   "outputs": [
    {
     "name": "stdout",
     "output_type": "stream",
     "text": [
      "0.8042099465818117\n",
      "0.8078103349350544\n",
      "0.8822254560518593\n",
      "CPU times: user 21 ms, sys: 0 ns, total: 21 ms\n",
      "Wall time: 20.8 ms\n"
     ]
    }
   ],
   "source": [
    "%%time\n",
    "print(faster3.cosineSimilarity(vl1, vl4))\n",
    "print(faster3.cosineSimilarity(vl2, vl4))\n",
    "print(faster3.cosineSimilarity(vl3, vl4))"
   ]
  },
  {
   "cell_type": "code",
   "execution_count": 92,
   "metadata": {},
   "outputs": [
    {
     "name": "stdout",
     "output_type": "stream",
     "text": [
      "18358 3528 1603 8057 22291\n",
      "445508 90841\n"
     ]
    }
   ],
   "source": [
    "print(len(vl1)-vl1.count(0), len(vl1)-vl2.count(0), len(vl1)-vl3.count(0), len(vl1)-vl4.count(0), len(vl1))\n",
    "print(len(words), len(words5))"
   ]
  },
  {
   "cell_type": "code",
   "execution_count": 202,
   "metadata": {},
   "outputs": [
    {
     "name": "stdout",
     "output_type": "stream",
     "text": [
      "104178\n",
      "8780\n"
     ]
    }
   ],
   "source": [
    "with open(\"war_and_peace3.txt\") as fil:\n",
    "    textWP=fil.read()\n",
    "words6=[w[0] for w in re.findall(\"([А-ЯЁа-яё]+(-[А-ЯЁа-яё]+)*)\", textWP)]\n",
    "print(len(words6))\n",
    "faster4=FasterMorphology2()\n",
    "vd5=faster4.vectorizeAsDict(words6)\n",
    "vl5=faster4.vectorizeAsList(words6)\n",
    "print(len(vl5))"
   ]
  },
  {
   "cell_type": "markdown",
   "metadata": {},
   "source": [
    "<h2>CountVectorizer и TfidfVectorizer</h2>"
   ]
  },
  {
   "cell_type": "markdown",
   "metadata": {},
   "source": [
    "На самом деле примерно всё то же самое можно селать при помощи класса CountVectorizer из sklearn.feature_extraction.text. При помощи функции <i>fit\\_transform</i> можно получить разреженное представление матрицы частот слов. Основная проблема состоит в том, что индексы в матрице представляют собой индексы в словаре переданных текстов. Сам словарь хранится в свойстве <i>vocabulary\\_</i> и умеет возвращать индекс по слову (но не наоборот)."
   ]
  },
  {
   "cell_type": "code",
   "execution_count": 66,
   "metadata": {},
   "outputs": [],
   "source": [
    "from sklearn.feature_extraction.text import CountVectorizer"
   ]
  },
  {
   "cell_type": "code",
   "execution_count": 353,
   "metadata": {},
   "outputs": [
    {
     "name": "stdout",
     "output_type": "stream",
     "text": [
      "  (0, 9)\t3\n",
      "  (0, 3)\t1\n",
      "  (0, 4)\t1\n",
      "  (0, 2)\t1\n",
      "  (0, 0)\t1\n",
      "  (0, 7)\t3\n",
      "  (0, 6)\t7\n",
      "  (0, 5)\t10\n",
      "20342\n",
      "None\n"
     ]
    }
   ],
   "source": [
    "counter=CountVectorizer()\n",
    "# Просим посчитать частоты слов.\n",
    "res=counter.fit_transform([newtext, newtext3, newtext5])\n",
    "# Разреженное представление счетчика.\n",
    "print(res[0][0,:10])\n",
    "# Можно получить индекс по слову, ...\n",
    "print(counter.vocabulary_.get('левый'))\n",
    "# ... но не наоборот.\n",
    "print(counter.vocabulary_.get(20342))"
   ]
  },
  {
   "cell_type": "markdown",
   "metadata": {},
   "source": [
    "Более того, CountVectorizer просто выделяет подстроки и ничего не знает про морфологию (ее можно правильно прикрутить, но это хлопотное занятие). Зато он умеет выделять n-граммы (n слов идущих подряд (или даже букв)). Помимо этого, можно попросить выдать все подстроки, создав анализатор. И можно сказать как выделять подстроки при помощи регулярного выражения."
   ]
  },
  {
   "cell_type": "code",
   "execution_count": 334,
   "metadata": {},
   "outputs": [],
   "source": [
    "def getMeaningfullWords(text):\n",
    "    words=[]\n",
    "    tokens=re.findall('[А-Яа-яЁё]+\\-[А-Яа-яЁё]+|[А-Яа-яЁё]+', text)\n",
    "    for t in tokens:\n",
    "        pv=morph.parse(t)\n",
    "        if pv[0].tag.POS in ['ADJF', 'NOUN', 'VERB', 'PRTF', 'GRND']:\n",
    "            words.append(pv[0].normal_form)\n",
    "    return words\n",
    "\n",
    "lemmaCounter=CountVectorizer(ngram_range=(1,3), token_pattern=r'[А-Яа-яЁё]+\\-[А-Яа-яЁё]+|[А-Яа-яЁё]+')\n",
    "\n",
    "c=[' '.join(getMeaningfullWords(newtext)), ' '.join(getMeaningfullWords(newtext3)), ' '.join(getMeaningfullWords(newtext5))]\n",
    "analyze = lemmaCounter.build_analyzer()\n",
    "res1=analyze(c[0])\n",
    "res2=lemmaCounter.fit_transform(c)"
   ]
  },
  {
   "cell_type": "code",
   "execution_count": 335,
   "metadata": {},
   "outputs": [
    {
     "name": "stdout",
     "output_type": "stream",
     "text": [
      "['николай', 'толстой', 'война', 'мир', 'тот', 'часть', 'один', 'е', 'поместье', 'мой']\n"
     ]
    }
   ],
   "source": [
    "print(res1[:10])"
   ]
  },
  {
   "cell_type": "markdown",
   "metadata": {},
   "source": [
    "Теперь попробуем другой показатель для подсчета важности слов в тексте - $TF*IDF$. Здесь $TF$ - Term Frequency, частота термина в документе, а $IDF$ - Inverted Document Frequency, обратная частота термина в коллекции (количество документов, в которых встречается данный термин).\n",
    "\n",
    "Идея метрики очень проста. Если слово встречается почти во всех документах - его различительная сила очень мала и само слово не является важным. Если слово часто встречается в данном документе, то оно являетсяя важным для него.\n",
    "\n",
    "Метрика считается на коллекции документов для каждого слова, каждого документа. Для расчета меры можно использовать `TfidfVectorizer`, который работает так же как `CountVectorizer`."
   ]
  },
  {
   "cell_type": "code",
   "execution_count": 44,
   "metadata": {},
   "outputs": [],
   "source": [
    "from sklearn.feature_extraction.text import TfidfVectorizer"
   ]
  },
  {
   "cell_type": "code",
   "execution_count": 358,
   "metadata": {},
   "outputs": [],
   "source": [
    "lemmaCounter=TfidfVectorizer(ngram_range=(1,3), token_pattern=r'[А-Яа-яЁё]+\\-[А-Яа-яЁё]+|[А-Яа-яЁё]+')\n",
    "\n",
    "c=[' '.join(getMeaningfullWords(newtext)), ' '.join(getMeaningfullWords(newtext3)), ' '.join(getMeaningfullWords(newtext5))]\n",
    "analyze = lemmaCounter.build_analyzer()\n",
    "res1=analyze(c[0])\n",
    "res2=lemmaCounter.fit_transform(c)"
   ]
  },
  {
   "cell_type": "code",
   "execution_count": 359,
   "metadata": {},
   "outputs": [
    {
     "name": "stdout",
     "output_type": "stream",
     "text": [
      "  (0, 3)\t0.0001129089685194666\n",
      "  (0, 0)\t0.0001129089685194666\n",
      "  (0, 9)\t0.0002258179370389332\n",
      "  (0, 4)\t0.0001129089685194666\n",
      "  (0, 1)\t0.0001129089685194666\n",
      "  (0, 5)\t0.0001129089685194666\n",
      "  (0, 2)\t0.0001129089685194666\n"
     ]
    }
   ],
   "source": [
    "print(res2[0][0,:10])"
   ]
  },
  {
   "cell_type": "markdown",
   "metadata": {},
   "source": [
    "Попробуем посмотреть на близость глав \"Марсианина\" при помощи косинусной меры по частотам слов."
   ]
  },
  {
   "cell_type": "code",
   "execution_count": 30,
   "metadata": {},
   "outputs": [],
   "source": [
    "wordsM=[]\n",
    "for i in range(2, 33):\n",
    "    with open(\"data/veyr/index_split_0\"+\"{:0>2}\".format(i)+\".xhtml\") as fil:\n",
    "        textWP=fil.read()\n",
    "    words6=[w[0].lower() for w in re.findall(\"([А-ЯЁа-яё]+(-[А-ЯЁа-яё]+)*)\", textWP)]\n",
    "    wordsM.append(words6)\n"
   ]
  },
  {
   "cell_type": "code",
   "execution_count": 36,
   "metadata": {},
   "outputs": [],
   "source": [
    "m_vects = []\n",
    "\n",
    "for words in wordsM:\n",
    "    m_vects.append(faster3.vectorizeAsDict(words))\n"
   ]
  },
  {
   "cell_type": "code",
   "execution_count": 42,
   "metadata": {},
   "outputs": [
    {
     "name": "stdout",
     "output_type": "stream",
     "text": [
      "0.9424772735909387 21 22\n"
     ]
    }
   ],
   "source": [
    "nearest = -1\n",
    "txt1 = -1\n",
    "txt2 = -1\n",
    "for i, vct1 in enumerate(m_vects):\n",
    "    for j, vct2 in enumerate(m_vects):\n",
    "        if vct1 is vct2:\n",
    "            continue\n",
    "        cc = faster3.cosineSimilarity(vct1, vct2)\n",
    "        if cc > nearest:\n",
    "            nearest = cc\n",
    "            txt1 = i\n",
    "            txt2 = j\n",
    "print(nearest, txt1+2, txt2+2)"
   ]
  },
  {
   "cell_type": "markdown",
   "metadata": {},
   "source": [
    "А теперь возьмем косинусную меру сходства по результатам TF*IDF."
   ]
  },
  {
   "cell_type": "code",
   "execution_count": 74,
   "metadata": {},
   "outputs": [],
   "source": [
    "textM = []\n",
    "for i in range(2, 33):\n",
    "    with open(\"data/veyr/index_split_0\"+\"{:0>2}\".format(i)+\".xhtml\") as fil:\n",
    "        textM.append(fil.read())"
   ]
  },
  {
   "cell_type": "code",
   "execution_count": 77,
   "metadata": {},
   "outputs": [],
   "source": [
    "lemmaCounter=CountVectorizer(ngram_range=(1,3), token_pattern=r'[А-Яа-яЁё]+\\-[А-Яа-яЁё]+|[А-Яа-яЁё]+')\n",
    "#lemmaCounter=TfidfVectorizer(ngram_range=(1,3), token_pattern=r'[А-Яа-яЁё]+\\-[А-Яа-яЁё]+|[А-Яа-яЁё]+')\n",
    "\n",
    "analyze = lemmaCounter.build_analyzer()\n",
    "#res1=analyze(c[0])\n",
    "res2=lemmaCounter.fit_transform(textM)"
   ]
  },
  {
   "cell_type": "code",
   "execution_count": 59,
   "metadata": {},
   "outputs": [],
   "source": [
    "from sklearn.metrics.pairwise import cosine_similarity"
   ]
  },
  {
   "cell_type": "code",
   "execution_count": 80,
   "metadata": {},
   "outputs": [
    {
     "name": "stdout",
     "output_type": "stream",
     "text": [
      "[[0.85149324]] 15 21\n"
     ]
    }
   ],
   "source": [
    "nearest = -1\n",
    "txt1 = -1\n",
    "txt2 = -1\n",
    "for i, vct1 in enumerate(res2):\n",
    "    for j, vct2 in enumerate(res2):\n",
    "        if i==j:\n",
    "            continue\n",
    "        cc = cosine_similarity(vct1, vct2)\n",
    "        if cc > nearest:\n",
    "            nearest = cc\n",
    "            txt1 = i\n",
    "            txt2 = j\n",
    "print(nearest, txt1+2, txt2+2)\n",
    "\n"
   ]
  },
  {
   "cell_type": "markdown",
   "metadata": {},
   "source": [
    "<h2>Из чего же сделаны классы?</h2>"
   ]
  },
  {
   "cell_type": "markdown",
   "metadata": {},
   "source": [
    "Теперь посмотрим на объект изнутри. Мы уже обратили внимание, что объект класса надо пересоздать после внесения изменения в класс. Получается, что каждый объект \"носит\" с собой все свои функции.<br>\n",
    "Среди прочего, это связано с тем, что Питон работает со ссылками на переменные, а не самими переменными. Переменная в Питоне - это не классический \"ящик\" в котором хранится значение. Это ссылка на подобный ящик.<br>\n",
    "Функция <i>dir</i> выдает список всех полей и методов объекта."
   ]
  },
  {
   "cell_type": "code",
   "execution_count": 360,
   "metadata": {},
   "outputs": [
    {
     "data": {
      "text/plain": [
       "['JaccardCoefficient',\n",
       " '__class__',\n",
       " '__delattr__',\n",
       " '__dict__',\n",
       " '__dir__',\n",
       " '__doc__',\n",
       " '__eq__',\n",
       " '__format__',\n",
       " '__ge__',\n",
       " '__getattribute__',\n",
       " '__gt__',\n",
       " '__hash__',\n",
       " '__init__',\n",
       " '__init_subclass__',\n",
       " '__le__',\n",
       " '__lt__',\n",
       " '__module__',\n",
       " '__ne__',\n",
       " '__new__',\n",
       " '__reduce__',\n",
       " '__reduce_ex__',\n",
       " '__repr__',\n",
       " '__setattr__',\n",
       " '__sizeof__',\n",
       " '__str__',\n",
       " '__subclasshook__',\n",
       " '__weakref__',\n",
       " 'analyzeText',\n",
       " 'analyzeWords',\n",
       " 'cash',\n",
       " 'clearDict',\n",
       " 'cosineSimilarity',\n",
       " 'dictionary',\n",
       " 'formDict',\n",
       " 'morpho',\n",
       " 'vectorizeAsArray',\n",
       " 'vectorizeAsDict',\n",
       " 'vectorizeAsList',\n",
       " 'vectorizeAsList2']"
      ]
     },
     "execution_count": 360,
     "metadata": {},
     "output_type": "execute_result"
    }
   ],
   "source": [
    "dir(faster3)"
   ]
  },
  {
   "cell_type": "markdown",
   "metadata": {},
   "source": [
    "А поле \\__dict\\__ хранит только поля объекта. Но собственно хранит, а не содержит список названий."
   ]
  },
  {
   "cell_type": "code",
   "execution_count": 94,
   "metadata": {},
   "outputs": [
    {
     "data": {
      "text/plain": [
       "{'cash': {'Лев': 'левый',\n",
       "  'Николаевич': 'николай',\n",
       "  'Толстой': 'толстой',\n",
       "  'Война': 'война',\n",
       "  'и': 'и',\n",
       "  'мир': 'мир',\n",
       "  'Том': 'тот',\n",
       "  'ЧАСТЬ': 'часть',\n",
       "  'ПЕРВАЯ': 'один',\n",
       "  'Е': 'е',\n",
       "  'поместья': 'поместье',\n",
       "  'мой': 'мой',\n",
       "  'верный': 'верный',\n",
       "  'раб': 'раб',\n",
       "  'Ну': 'ну',\n",
       "  'здравствуйте': 'здравствовать',\n",
       "  'садитесь': 'садиться',\n",
       "  'рассказывайте': 'рассказывать',\n",
       "  'Так': 'так',\n",
       "  'говорила': 'говорить',\n",
       "  'в': 'в',\n",
       "  'июле': 'июль',\n",
       "  'года': 'год',\n",
       "  'известная': 'известный',\n",
       "  'Анна': 'анна',\n",
       "  'Павловна': 'павло',\n",
       "  'Шерер': 'шерер',\n",
       "  'фрейлина': 'фрейлина',\n",
       "  'приближенная': 'приблизить',\n",
       "  'императрицы': 'императрица',\n",
       "  'Марии': 'мария',\n",
       "  'Феодоровны': 'феодоровный',\n",
       "  'встречая': 'встречать',\n",
       "  'важного': 'важный',\n",
       "  'чиновного': 'чиновный',\n",
       "  'князя': 'князь',\n",
       "  'Василия': 'василий',\n",
       "  'первого': 'первое',\n",
       "  'приехавшего': 'приехать',\n",
       "  'на': 'на',\n",
       "  'ее': 'она',\n",
       "  'вечер': 'вечер',\n",
       "  'кашляла': 'кашлять',\n",
       "  'несколько': 'несколько',\n",
       "  'дней': 'день',\n",
       "  'у': 'у',\n",
       "  'нее': 'нея',\n",
       "  'был': 'быть',\n",
       "  'грипп': 'грипп',\n",
       "  'как': 'как',\n",
       "  'она': 'она',\n",
       "  'тогда': 'тогда',\n",
       "  'новое': 'новое',\n",
       "  'слово': 'слово',\n",
       "  'употреблявшееся': 'употребляться',\n",
       "  'только': 'только',\n",
       "  'редкими': 'редкий',\n",
       "  'В': 'в',\n",
       "  'записочках': 'записочка',\n",
       "  'разосланных': 'разослать',\n",
       "  'утром': 'утром',\n",
       "  'с': 'с',\n",
       "  'красным': 'красный',\n",
       "  'лакеем': 'лакей',\n",
       "  'было': 'быть',\n",
       "  'написано': 'написать',\n",
       "  'без': 'без',\n",
       "  'различия': 'различие',\n",
       "  'во': 'в',\n",
       "  'всех': 'весь',\n",
       "  'или': 'или',\n",
       "  'отвечал': 'отвечать',\n",
       "  'нисколько': 'нисколько',\n",
       "  'не': 'не',\n",
       "  'смутясь': 'смутиться',\n",
       "  'такою': 'такой',\n",
       "  'встречей': 'встреча',\n",
       "  'вошедший': 'войти',\n",
       "  'князь': 'князь',\n",
       "  'придворном': 'придворный',\n",
       "  'шитом': 'шитый',\n",
       "  'мундире': 'мундир',\n",
       "  'чулках': 'чулок',\n",
       "  'башмаках': 'башмак',\n",
       "  'при': 'при',\n",
       "  'звездах': 'звезда',\n",
       "  'светлым': 'светлый',\n",
       "  'выражением': 'выражение',\n",
       "  'плоского': 'плоский',\n",
       "  'лица': 'лицо',\n",
       "  'Он': 'он',\n",
       "  'говорил': 'говорить',\n",
       "  'том': 'тот',\n",
       "  'изысканном': 'изысканный',\n",
       "  'французском': 'французский',\n",
       "  'языке': 'язык',\n",
       "  'котором': 'который',\n",
       "  'говорили': 'говорить',\n",
       "  'но': 'но',\n",
       "  'думали': 'думать',\n",
       "  'наши': 'наш',\n",
       "  'деды': 'дед',\n",
       "  'теми': 'тот',\n",
       "  'тихими': 'тихий',\n",
       "  'покровительственными': 'покровительственный',\n",
       "  'интонациями': 'интонация',\n",
       "  'которые': 'который',\n",
       "  'свойственны': 'свойственный',\n",
       "  'состаревшемуся': 'состаревшийся',\n",
       "  'свете': 'свет',\n",
       "  'дворе': 'двор',\n",
       "  'значительному': 'значительный',\n",
       "  'человеку': 'человек',\n",
       "  'подошел': 'подойти',\n",
       "  'к': 'к',\n",
       "  'Анне': 'анне',\n",
       "  'Павловне': 'павло',\n",
       "  'поцеловал': 'поцеловать',\n",
       "  'руку': 'рука',\n",
       "  'подставив': 'подставить',\n",
       "  'ей': 'она',\n",
       "  'свою': 'свой',\n",
       "  'надушенную': 'надушить',\n",
       "  'сияющую': 'сиять',\n",
       "  'лысину': 'лысина',\n",
       "  'покойно': 'покойно',\n",
       "  'уселся': 'усесться',\n",
       "  'диване': 'диван',\n",
       "  'Успокойте': 'успокоить',\n",
       "  'друга': 'друг',\n",
       "  'сказал': 'сказать',\n",
       "  'он': 'он',\n",
       "  'изменяя': 'изменять',\n",
       "  'голоса': 'голос',\n",
       "  'тоном': 'тон',\n",
       "  'из-за': 'из-за',\n",
       "  'приличия': 'приличие',\n",
       "  'участия': 'участие',\n",
       "  'просвечивало': 'просвечивать',\n",
       "  'равнодушие': 'равнодушие',\n",
       "  'даже': 'даже',\n",
       "  'насмешка': 'насмешка',\n",
       "  'Как': 'как',\n",
       "  'можно': 'можно',\n",
       "  'быть': 'быть',\n",
       "  'здоровой': 'здоровый',\n",
       "  'когда': 'когда',\n",
       "  'нравственно': 'нравственно',\n",
       "  'страдаешь': 'страдать',\n",
       "  'Разве': 'разве',\n",
       "  'оставаться': 'оставаться',\n",
       "  'спокойною': 'спокойный',\n",
       "  'наше': 'наш',\n",
       "  'время': 'время',\n",
       "  'есть': 'есть',\n",
       "  'человека': 'человек',\n",
       "  'чувство': 'чувство',\n",
       "  'сказала': 'сказать',\n",
       "  'Вы': 'вы',\n",
       "  'весь': 'весь',\n",
       "  'меня': 'я',\n",
       "  'надеюсь': 'надеяться',\n",
       "  'А': 'а',\n",
       "  'праздник': 'праздник',\n",
       "  'английского': 'английский',\n",
       "  'посланника': 'посланник',\n",
       "  'Нынче': 'нынче',\n",
       "  'середа': 'середа',\n",
       "  'Мне': 'я',\n",
       "  'надо': 'надо',\n",
       "  'показаться': 'показаться',\n",
       "  'там': 'там',\n",
       "  'Дочь': 'дочь',\n",
       "  'заедет': 'заехать',\n",
       "  'за': 'за',\n",
       "  'мной': 'я',\n",
       "  'повезет': 'повезти',\n",
       "  'Я': 'я',\n",
       "  'думала': 'думать',\n",
       "  'что': 'что',\n",
       "  'нынешний': 'нынешний',\n",
       "  'отменен': 'отменный',\n",
       "  'Ежели': 'ежели',\n",
       "  'бы': 'бы',\n",
       "  'знали': 'знать',\n",
       "  'вы': 'вы',\n",
       "  'этого': 'это',\n",
       "  'хотите': 'хотеть',\n",
       "  'отменили': 'отменить',\n",
       "  'по': 'по',\n",
       "  'привычке': 'привычка',\n",
       "  'заведенные': 'завести',\n",
       "  'часы': 'часы',\n",
       "  'говоря': 'говорить',\n",
       "  'вещи': 'вещий',\n",
       "  'которым': 'который',\n",
       "  'хотел': 'хотеть',\n",
       "  'чтобы': 'чтобы',\n",
       "  'верили': 'верить',\n",
       "  'вам': 'вы',\n",
       "  'сказать': 'сказать',\n",
       "  'холодным': 'холодное',\n",
       "  'скучающим': 'скучать',\n",
       "  'Князь': 'князь',\n",
       "  'Василий': 'василий',\n",
       "  'всегда': 'всегда',\n",
       "  'лениво': 'лениво',\n",
       "  'актер': 'актёр',\n",
       "  'говорит': 'говорить',\n",
       "  'роль': 'роль',\n",
       "  'старой': 'старый',\n",
       "  'пиесы': 'пиес',\n",
       "  'напротив': 'напротив',\n",
       "  'несмотря': 'несмотря',\n",
       "  'свои': 'свой',\n",
       "  'сорок': 'сорок',\n",
       "  'лет': 'год',\n",
       "  'была': 'быть',\n",
       "  'преисполнена': 'преисполнить',\n",
       "  'оживления': 'оживление',\n",
       "  'порывов': 'порыв',\n",
       "  'Быть': 'быть',\n",
       "  'энтузиасткой': 'энтузиастка',\n",
       "  'сделалось': 'сделаться',\n",
       "  'общественным': 'общественный',\n",
       "  'положением': 'положение',\n",
       "  'иногда': 'иногда',\n",
       "  'того': 'тот',\n",
       "  'хотелось': 'хотеться',\n",
       "  'обмануть': 'обмануть',\n",
       "  'ожиданий': 'ожидание',\n",
       "  'людей': 'человек',\n",
       "  'знавших': 'знать',\n",
       "  'делалась': 'делаться',\n",
       "  'Сдержанная': 'сдержать',\n",
       "  'улыбка': 'улыбка',\n",
       "  'игравшая': 'играть',\n",
       "  'постоянно': 'постоянно',\n",
       "  'лице': 'лицо',\n",
       "  'Анны': 'анна',\n",
       "  'Павловны': 'павло',\n",
       "  'хотя': 'хотя',\n",
       "  'шла': 'идти',\n",
       "  'отжившим': 'отживший',\n",
       "  'чертам': 'черта',\n",
       "  'выражала': 'выражать',\n",
       "  'избалованных': 'избаловать',\n",
       "  'детей': 'ребёнок',\n",
       "  'постоянное': 'постоянный',\n",
       "  'сознание': 'сознание',\n",
       "  'своего': 'свой',\n",
       "  'милого': 'милый',\n",
       "  'недостатка': 'недостаток',\n",
       "  'от': 'от',\n",
       "  'которого': 'который',\n",
       "  'хочет': 'хотеть',\n",
       "  'может': 'мочь',\n",
       "  'находит': 'находить',\n",
       "  'нужным': 'нужный',\n",
       "  'исправляться': 'исправляться',\n",
       "  'середине': 'середина',\n",
       "  'разговора': 'разговор',\n",
       "  'про': 'про',\n",
       "  'политические': 'политический',\n",
       "  'действия': 'действие',\n",
       "  'разгорячилась': 'разгорячиться',\n",
       "  'Ах': 'ах',\n",
       "  'говорите': 'говорить',\n",
       "  'мне': 'я',\n",
       "  'Австрию': 'австрия',\n",
       "  'ничего': 'ничто',\n",
       "  'понимаю': 'понимать',\n",
       "  'Австрия': 'австрия',\n",
       "  'никогда': 'никогда',\n",
       "  'хотела': 'хотеть',\n",
       "  'войны': 'война',\n",
       "  'Она': 'она',\n",
       "  'предает': 'предавать',\n",
       "  'нас': 'мы',\n",
       "  'Россия': 'россия',\n",
       "  'одна': 'один',\n",
       "  'должна': 'должный',\n",
       "  'спасительницей': 'спасительница',\n",
       "  'Европы': 'европа',\n",
       "  'Наш': 'наш',\n",
       "  'благодетель': 'благодетель',\n",
       "  'знает': 'знать',\n",
       "  'свое': 'свой',\n",
       "  'высокое': 'высокий',\n",
       "  'призвание': 'призвание',\n",
       "  'будет': 'быть',\n",
       "  'верен': 'верный',\n",
       "  'ему': 'он',\n",
       "  'Вот': 'вот',\n",
       "  'одно': 'один',\n",
       "  'я': 'я',\n",
       "  'верю': 'верить',\n",
       "  'Нашему': 'наш',\n",
       "  'доброму': 'добрый',\n",
       "  'чудному': 'чудный',\n",
       "  'государю': 'государь',\n",
       "  'предстоит': 'предстоять',\n",
       "  'величайшая': 'великий',\n",
       "  'мире': 'мир',\n",
       "  'так': 'так',\n",
       "  'добродетелен': 'добродетельный',\n",
       "  'хорош': 'хороший',\n",
       "  'Бог': 'бог',\n",
       "  'оставит': 'оставить',\n",
       "  'его': 'он',\n",
       "  'исполнит': 'исполнить',\n",
       "  'задавить': 'задавить',\n",
       "  'гидру': 'гидра',\n",
       "  'революции': 'революция',\n",
       "  'которая': 'который',\n",
       "  'теперь': 'теперь',\n",
       "  'еще': 'ещё',\n",
       "  'ужаснее': 'ужасный',\n",
       "  'убийцы': 'убийца',\n",
       "  'злодея': 'злодей',\n",
       "  'Мы': 'мы',\n",
       "  'одни': 'один',\n",
       "  'должны': 'должный',\n",
       "  'искупить': 'искупить',\n",
       "  'кровь': 'кровь',\n",
       "  'праведника': 'праведник',\n",
       "  'На': 'на',\n",
       "  'кого': 'кто',\n",
       "  'нам': 'мы',\n",
       "  'надеяться': 'надеяться',\n",
       "  'вас': 'вы',\n",
       "  'спрашиваю': 'спрашивать',\n",
       "  'Англия': 'англия',\n",
       "  'своим': 'свой',\n",
       "  'коммерческим': 'коммерческий',\n",
       "  'духом': 'дух',\n",
       "  'поймет': 'понять',\n",
       "  'понять': 'понять',\n",
       "  'всю': 'весь',\n",
       "  'высоту': 'высота',\n",
       "  'души': 'душа',\n",
       "  'императора': 'император',\n",
       "  'Александра': 'александр',\n",
       "  'отказалась': 'отказаться',\n",
       "  'очистить': 'очистить',\n",
       "  'Мальту': 'мальта',\n",
       "  'видеть': 'видеть',\n",
       "  'ищет': 'искать',\n",
       "  'заднюю': 'задний',\n",
       "  'мысль': 'мысль',\n",
       "  'наших': 'наш',\n",
       "  'действий': 'действие',\n",
       "  'Что': 'что',\n",
       "  'они': 'они',\n",
       "  'сказали': 'сказать',\n",
       "  'Новосильцову': 'новосильцов',\n",
       "  'Ничего': 'ничто',\n",
       "  'Они': 'они',\n",
       "  'поняли': 'понять',\n",
       "  'могут': 'мочь',\n",
       "  'самоотвержения': 'самоотвержение',\n",
       "  'нашего': 'наш',\n",
       "  'который': 'который',\n",
       "  'для': 'для',\n",
       "  'себя': 'себя',\n",
       "  'все': 'весь',\n",
       "  'блага': 'благо',\n",
       "  'мира': 'мир',\n",
       "  'И': 'и',\n",
       "  'обещали': 'обещать',\n",
       "  'Пруссия': 'пруссия',\n",
       "  'уж': 'уж',\n",
       "  'объявила': 'объявить',\n",
       "  'Бонапарте': 'бонапарт',\n",
       "  'непобедим': 'непобедимый',\n",
       "  'вся': 'весь',\n",
       "  'Европа': 'европа',\n",
       "  'против': 'против',\n",
       "  'него': 'он',\n",
       "  'ни': 'ни',\n",
       "  'одном': 'один',\n",
       "  'слове': 'слово',\n",
       "  'Гарденбергу': 'гарденберг',\n",
       "  'Гаугвицу': 'гаугвица',\n",
       "  'одного': 'один',\n",
       "  'Бога': 'бог',\n",
       "  'высокую': 'высокий',\n",
       "  'судьбу': 'судьба',\n",
       "  'спасет': 'спасти',\n",
       "  'Европу': 'европа',\n",
       "  'вдруг': 'вдруг',\n",
       "  'остановилась': 'остановиться',\n",
       "  'улыбкою': 'улыбка',\n",
       "  'насмешки': 'насмешка',\n",
       "  'над': 'над',\n",
       "  'своею': 'свой',\n",
       "  'горячностью': 'горячность',\n",
       "  'думаю': 'думать',\n",
       "  'улыбаясь': 'улыбаться',\n",
       "  'ежели': 'ежели',\n",
       "  'послали': 'послать',\n",
       "  'вместо': 'вместо',\n",
       "  'Винценгероде': 'винценгерод',\n",
       "  'взяли': 'взять',\n",
       "  'приступом': 'приступ',\n",
       "  'согласие': 'согласие',\n",
       "  'прусского': 'прусский',\n",
       "  'короля': 'король',\n",
       "  'красноречивы': 'красноречивый',\n",
       "  'дадите': 'дать',\n",
       "  'чаю': 'чай',\n",
       "  'Сейчас': 'сейчас',\n",
       "  'прибавила': 'прибавить',\n",
       "  'опять': 'опять',\n",
       "  'успокоиваясь': 'успокоиваться',\n",
       "  'нынче': 'нынче',\n",
       "  'два': 'два',\n",
       "  'очень': 'очень',\n",
       "  'интересные': 'интересный',\n",
       "  'из': 'из',\n",
       "  'лучших': 'хороший',\n",
       "  'фамилий': 'фамилия',\n",
       "  'Франции': 'франция',\n",
       "  'Это': 'это',\n",
       "  'один': 'один',\n",
       "  'хороших': 'хороший',\n",
       "  'эмигрантов': 'эмигрант',\n",
       "  'настоящих': 'настоящий',\n",
       "  'потом': 'потом',\n",
       "  'знаете': 'знаете',\n",
       "  'этот': 'этот',\n",
       "  'глубокий': 'глубокий',\n",
       "  'ум': 'ум',\n",
       "  'принят': 'принять',\n",
       "  'государем': 'государь',\n",
       "  'рад': 'рад',\n",
       "  'буду': 'быть',\n",
       "  'Скажите': 'сказать',\n",
       "  'прибавил': 'прибавить',\n",
       "  'будто': 'будто',\n",
       "  'вспомнив': 'вспомнить',\n",
       "  'что-то': 'что-то',\n",
       "  'особенно-небрежно': 'особенно-небрежно',\n",
       "  'то': 'то',\n",
       "  'о': 'о',\n",
       "  'чем': 'чем',\n",
       "  'спрашивал': 'спрашивать',\n",
       "  'главною': 'главный',\n",
       "  'целью': 'цель',\n",
       "  'посещения': 'посещение',\n",
       "  'правда': 'правда',\n",
       "  'желает': 'желать',\n",
       "  'назначения': 'назначение',\n",
       "  'барона': 'барон',\n",
       "  'Функе': 'функа',\n",
       "  'первым': 'один',\n",
       "  'секретарем': 'секретарь',\n",
       "  'Вену': 'вена',\n",
       "  'желал': 'желать',\n",
       "  'определить': 'определить',\n",
       "  'сына': 'сын',\n",
       "  'это': 'это',\n",
       "  'место': 'место',\n",
       "  'которое': 'который',\n",
       "  'через': 'через',\n",
       "  'императрицу': 'императрица',\n",
       "  'Марию': 'мария',\n",
       "  'Феодоровну': 'феодор',\n",
       "  'старались': 'стараться',\n",
       "  'доставить': 'доставить',\n",
       "  'барону': 'барон',\n",
       "  'почти': 'почти',\n",
       "  'закрыла': 'закрыть',\n",
       "  'глаза': 'глаз',\n",
       "  'знак': 'знак',\n",
       "  'кто': 'кто',\n",
       "  'другой': 'другой',\n",
       "  'судить': 'судить',\n",
       "  'угодно': 'угодный',\n",
       "  'нравится': 'нравиться',\n",
       "  'императрице': 'императрица',\n",
       "  'грустным': 'грустный',\n",
       "  'сухим': 'сухой',\n",
       "  'назвала': 'назвать',\n",
       "  'лицо': 'лицо',\n",
       "  'представило': 'представить',\n",
       "  'глубокое': 'глубокий',\n",
       "  'искреннее': 'искренний',\n",
       "  'выражение': 'выражение',\n",
       "  'преданности': 'преданность',\n",
       "  'уважения': 'уважение',\n",
       "  'соединенное': 'соединить',\n",
       "  'грустью': 'грусть',\n",
       "  'ней': 'она',\n",
       "  'бывало': 'бывать',\n",
       "  'каждый': 'каждый',\n",
       "  'раз': 'раз',\n",
       "  'разговоре': 'разговор',\n",
       "  'упоминала': 'упоминать',\n",
       "  'своей': 'свой',\n",
       "  'высокой': 'высокий',\n",
       "  'покровительнице': 'покровительница',\n",
       "  'величество': 'величество',\n",
       "  'изволила': 'изволить',\n",
       "  'оказать': 'оказать',\n",
       "  'взгляд': 'взгляд',\n",
       "  'подернулся': 'подёрнуться',\n",
       "  'равнодушно': 'равнодушно',\n",
       "  'замолк': 'замолкнуть',\n",
       "  'свойственною': 'свойственный',\n",
       "  'придворною': 'придворный',\n",
       "  'женскою': 'женский',\n",
       "  'ловкостью': 'ловкость',\n",
       "  'быстротою': 'быстрота',\n",
       "  'такта': 'такт',\n",
       "  'захотела': 'захотеть',\n",
       "  'щелконуть': 'щелконуть',\n",
       "  'дерзнул': 'дерзнуть',\n",
       "  'отозваться': 'отозваться',\n",
       "  'рекомендованном': 'рекомендовать',\n",
       "  'же': 'же',\n",
       "  'утешить': 'утешить',\n",
       "  'ли': 'ли',\n",
       "  'ваша': 'ваш',\n",
       "  'дочь': 'дочь',\n",
       "  'тех': 'тот',\n",
       "  'пор': 'пора',\n",
       "  'выезжает': 'выезжать',\n",
       "  'наклонился': 'наклониться',\n",
       "  'признательности': 'признательность',\n",
       "  'часто': 'часто',\n",
       "  'продолжала': 'продолжать',\n",
       "  'после': 'после',\n",
       "  'минутного': 'минутный',\n",
       "  'молчания': 'молчание',\n",
       "  'подвигаясь': 'подвигаться',\n",
       "  'князю': 'князь',\n",
       "  'ласково': 'ласково',\n",
       "  'выказывая': 'выказывать',\n",
       "  'этим': 'это',\n",
       "  'светские': 'светский',\n",
       "  'разговоры': 'разговор',\n",
       "  'кончены': 'конченый',\n",
       "  'начинается': 'начинаться',\n",
       "  'задушевный': 'задушевный',\n",
       "  'несправедливо': 'несправедливый',\n",
       "  'распределяется': 'распределяться',\n",
       "  'счастие': 'счастие',\n",
       "  'жизни': 'жизнь',\n",
       "  'За': 'за',\n",
       "  'судьба': 'судьба',\n",
       "  'дала': 'дать',\n",
       "  'таких': 'такой',\n",
       "  'двух': 'два',\n",
       "  'славных': 'славный',\n",
       "  'исключая': 'исключая',\n",
       "  'Анатоля': 'анатоль',\n",
       "  'вашего': 'ваш',\n",
       "  'меньшого': 'меньшой',\n",
       "  'люблю': 'любить',\n",
       "  'вставила': 'вставить',\n",
       "  'безапелляционно': 'безапелляционно',\n",
       "  'приподняв': 'приподнять',\n",
       "  'брови': 'бровь',\n",
       "  'прелестных': 'прелестный',\n",
       "  'право': 'право',\n",
       "  'менее': 'менее',\n",
       "  'цените': 'ценить',\n",
       "  'их': 'они',\n",
       "  'потому': 'потому',\n",
       "  'стоите': 'стоять',\n",
       "  'улыбнулась': 'улыбнуться',\n",
       "  'восторженною': 'восторженный',\n",
       "  'улыбкой': 'улыбка',\n",
       "  'Перестаньте': 'перестать',\n",
       "  'шутить': 'шутить',\n",
       "  'серьезно': 'серьёзно',\n",
       "  'поговорить': 'поговорить',\n",
       "  'вами': 'вы',\n",
       "  'Знаете': 'знаете',\n",
       "  'недовольна': 'недовольный',\n",
       "  'вашим': 'ваш',\n",
       "  'меньшим': 'меньший',\n",
       "  'сыном': 'сын',\n",
       "  'Между': 'между',\n",
       "  'нами': 'мы',\n",
       "  'будь': 'быть',\n",
       "  'сказано': 'сказать',\n",
       "  'приняло': 'принять',\n",
       "  'грустное': 'грустный',\n",
       "  'нем': 'немой',\n",
       "  'величества': 'величество',\n",
       "  'жалеют': 'жалеть',\n",
       "  'молча': 'молча',\n",
       "  'значительно': 'значительно',\n",
       "  'глядя': 'глядеть',\n",
       "  'ждала': 'ждать',\n",
       "  'ответа': 'ответ',\n",
       "  'поморщился': 'поморщиться',\n",
       "  'чтоб': 'чтоб',\n",
       "  'делал': 'делать',\n",
       "  'наконец': 'наконец',\n",
       "  'сделал': 'сделать',\n",
       "  'воспитания': 'воспитание',\n",
       "  'отец': 'отец',\n",
       "  'оба': 'оба',\n",
       "  'вышли': 'выйти',\n",
       "  'Ипполит': 'ипполит',\n",
       "  'крайней': 'крайний',\n",
       "  'мере': 'мера',\n",
       "  'покойный': 'покойный',\n",
       "  'дурак': 'дурак',\n",
       "  'а': 'а',\n",
       "  'Анатоль': 'анатоль',\n",
       "  'беспокойный': 'беспокойный',\n",
       "  'различие': 'различие',\n",
       "  'более': 'более',\n",
       "  'неестественно': 'неестественно',\n",
       "  'одушевленно': 'одушевлённый',\n",
       "  'обыкновенно': 'обыкновенно',\n",
       "  'этом': 'это',\n",
       "  'особенно': 'особенно',\n",
       "  'резко': 'резко',\n",
       "  'сложившихся': 'сложиться',\n",
       "  'около': 'около',\n",
       "  'рта': 'рот',\n",
       "  'морщинах': 'морщина',\n",
       "  'неожиданно-грубое': 'неожиданно-грубый',\n",
       "  'неприятное': 'неприятный',\n",
       "  'зачем': 'зачем',\n",
       "  'родятся': 'родиться',\n",
       "  'дети': 'ребёнок',\n",
       "  'были': 'быть',\n",
       "  'могла': 'мочь',\n",
       "  'упрекнуть': 'упрекнуть',\n",
       "  'задумчиво': 'задумчиво',\n",
       "  'поднимая': 'поднимать',\n",
       "  'Мои': 'мой',\n",
       "  'крест': 'крест',\n",
       "  'себе': 'себя',\n",
       "  'объясняю': 'объяснять',\n",
       "  'помолчал': 'помолчать',\n",
       "  'выражая': 'выражать',\n",
       "  'жестом': 'жест',\n",
       "  'покорность': 'покорность',\n",
       "  'жестокой': 'жестокий',\n",
       "  'судьбе': 'судьба',\n",
       "  'задумалась': 'задуматься',\n",
       "  'женить': 'женить',\n",
       "  'блудного': 'блудный',\n",
       "  'Говорят': 'говорят',\n",
       "  'старые': 'старое',\n",
       "  'девицы': 'девица',\n",
       "  'чувствую': 'чувствовать',\n",
       "  'собою': 'себя',\n",
       "  'этой': 'этот',\n",
       "  'слабости': 'слабость',\n",
       "  'несчастлива': 'несчастливый',\n",
       "  'отцом': 'отец',\n",
       "  'Болконская': 'болконский',\n",
       "  'светским': 'светский',\n",
       "  'людям': 'человек',\n",
       "  'быстротой': 'быстрота',\n",
       "  'соображения': 'соображение',\n",
       "  'памяти': 'память',\n",
       "  'показал': 'показать',\n",
       "  'движением': 'движение',\n",
       "  'головы': 'голов',\n",
       "  'принял': 'принять',\n",
       "  'соображению': 'соображение',\n",
       "  'эти': 'этот',\n",
       "  'сведения': 'сведение',\n",
       "  'Нет': 'нет',\n",
       "  'стоит': 'стоить',\n",
       "  'год': 'год',\n",
       "  'видимо': 'видимо',\n",
       "  'силах': 'сила',\n",
       "  'удерживать': 'удерживать',\n",
       "  'печальный': 'печальный',\n",
       "  'ход': 'ход',\n",
       "  'своих': 'свой',\n",
       "  'мыслей': 'мысль',\n",
       "  'пять': 'пять',\n",
       "  'если': 'если',\n",
       "  'пойдет': 'пойти',\n",
       "  'богата': 'богатый',\n",
       "  'княжна': 'княжна',\n",
       "  'Отец': 'отец',\n",
       "  'богат': 'богатый',\n",
       "  'скуп': 'скупой',\n",
       "  'живет': 'жить',\n",
       "  'деревне': 'деревня',\n",
       "  'известный': 'известный',\n",
       "  'Болконский': 'болконский',\n",
       "  'отставленный': 'отставить',\n",
       "  'покойном': 'покойный',\n",
       "  'императоре': 'император',\n",
       "  'прозванный': 'прозвать',\n",
       "  'прусским': 'прусский',\n",
       "  'королем': 'король',\n",
       "  'умный': 'умный',\n",
       "  'человек': 'человек',\n",
       "  'со': 'с',\n",
       "  'странностями': 'странность',\n",
       "  'тяжелый': 'тяжёлый',\n",
       "  'У': 'у',\n",
       "  'брат': 'брат',\n",
       "  'вот': 'вот',\n",
       "  'недавно': 'недавно',\n",
       "  'женился': 'жениться',\n",
       "  'Мейнен': 'мейнный',\n",
       "  'адъютант': 'адъютант',\n",
       "  'Кутузова': 'кутузов',\n",
       "  'взяв': 'взять',\n",
       "  'собеседницу': 'собеседница',\n",
       "  'пригибая': 'пригибать',\n",
       "  'почему-то': 'почему-то',\n",
       "  'книзу': 'книзу',\n",
       "  'вернейший': 'верный',\n",
       "  'староста': 'староста',\n",
       "  'донесенья': 'донесение',\n",
       "  'покой-ер-п': 'покой-ер-п',\n",
       "  'хорошей': 'хорошеть',\n",
       "  'фамилии': 'фамилия',\n",
       "  'Все': 'весь',\n",
       "  'нужно': 'нужно',\n",
       "  'свободными': 'свободный',\n",
       "  'фамильярными': 'фамильярный',\n",
       "  'грациозными': 'грациозный',\n",
       "  'движениями': 'движение',\n",
       "  'отличали': 'отличать',\n",
       "  'взял': 'взять',\n",
       "  'фрейлину': 'фрейлина',\n",
       "  'поцеловав': 'поцеловать',\n",
       "  'помахал': 'помахать',\n",
       "  'фрейлинскою': 'фрейлинский',\n",
       "  'рукой': 'рука',\n",
       "  'развалившись': 'развалиться',\n",
       "  'креслах': 'кресло',\n",
       "  'сторону': 'сторона',\n",
       "  'соображая': 'соображать',\n",
       "  'поговорю': 'поговорить',\n",
       "  'уладится': 'уладиться',\n",
       "  'Гостиная': 'гостиный',\n",
       "  'начала': 'начало',\n",
       "  'понемногу': 'понемногу',\n",
       "  'наполняться': 'наполняться',\n",
       "  'Приехала': 'приехать',\n",
       "  'высшая': 'высокий',\n",
       "  'знать': 'знать',\n",
       "  'Петербурга': 'петербург',\n",
       "  'люди': 'человек',\n",
       "  'самые': 'самый',\n",
       "  'разнородные': 'разнородный',\n",
       "  'возрастам': 'возраст',\n",
       "  'характерам': 'характер',\n",
       "  'одинаковые': 'одинаковый',\n",
       "  'обществу': 'общество',\n",
       "  'каком': 'какой',\n",
       "  'жили': 'жить',\n",
       "  'приехала': 'приехать',\n",
       "  'красавица': 'красавица',\n",
       "  'Элен': 'элен',\n",
       "  'заехавшая': 'заехать',\n",
       "  'ним': 'он',\n",
       "  'вместе': 'вместе',\n",
       "  'ехать': 'ехать',\n",
       "  'шифре': 'шифр',\n",
       "  'бальном': 'бальный',\n",
       "  'платье': 'платье',\n",
       "  'молодая': 'молодая',\n",
       "  'маленькая': 'маленький',\n",
       "  'княгиня': 'княгиня',\n",
       "  'прошлую': 'прошлый',\n",
       "  'зиму': 'зима',\n",
       "  'вышедшая': 'выйти',\n",
       "  'замуж': 'замуж',\n",
       "  'выезжавшая': 'выезжать',\n",
       "  'большой': 'большой',\n",
       "  'свет': 'свет',\n",
       "  'причине': 'причина',\n",
       "  'беременности': 'беременность',\n",
       "  'ездившая': 'ездить',\n",
       "  'небольшие': 'небольшой',\n",
       "  'вечера': 'вечер',\n",
       "  'Приехал': 'приехать',\n",
       "  'сын': 'сын',\n",
       "  'Мортемаром': 'мортемар',\n",
       "  'представил': 'представить',\n",
       "  'приехал': 'приехать',\n",
       "  'аббат': 'аббат',\n",
       "  'Морио': 'морио',\n",
       "  'многие': 'многие',\n",
       "  'другие': 'другой',\n",
       "  'видали': 'видать',\n",
       "  'знакомы': 'знакомый',\n",
       "  'приезжавшим': 'приезжать',\n",
       "  'гостям': 'гость',\n",
       "  'весьма': 'весьма',\n",
       "  'подводила': 'подводить',\n",
       "  'маленькой': 'маленькая',\n",
       "  'старушке': 'старушка',\n",
       "  'высоких': 'высокий',\n",
       "  'бантах': 'бант',\n",
       "  'выплывшей': 'выплыть',\n",
       "  'комнаты': 'комната',\n",
       "  'скоро': 'скоро',\n",
       "  'стали': 'стать',\n",
       "  'приезжать': 'приезжать',\n",
       "  'гости': 'гость',\n",
       "  'называла': 'называть',\n",
       "  'имени': 'имя',\n",
       "  'медленно': 'медленно',\n",
       "  'переводя': 'переводить',\n",
       "  'гостя': 'гость',\n",
       "  'отходила': 'отходить',\n",
       "  'совершали': 'совершать',\n",
       "  'обряд': 'обряд',\n",
       "  'приветствования': 'приветствование',\n",
       "  'никому': 'никто',\n",
       "  'неизвестной': 'неизвестный',\n",
       "  'неинтересной': 'неинтересный',\n",
       "  'ненужной': 'ненужный',\n",
       "  'тетушки': 'тётушка',\n",
       "  'торжественным': 'торжественный',\n",
       "  'участием': 'участие',\n",
       "  'следила': 'следить',\n",
       "  'приветствиями': 'приветствие',\n",
       "  'молчаливо': 'молчаливо',\n",
       "  'одобряя': 'одобрять',\n",
       "  'каждому': 'каждый',\n",
       "  'одних': 'один',\n",
       "  'выражениях': 'выражение',\n",
       "  'здоровье': 'здоровье',\n",
       "  'своем': 'свой',\n",
       "  'слава': 'слава',\n",
       "  'Богу': 'бог',\n",
       "  'лучше': 'хороший',\n",
       "  'подходившие': 'подходить',\n",
       "  'поспешности': 'поспешность',\n",
       "  'чувством': 'чувство',\n",
       "  'облегчения': 'облегчение',\n",
       "  'исполненной': 'исполнить',\n",
       "  'тяжелой': 'тяжёлый',\n",
       "  'обязанности': 'обязанность',\n",
       "  'отходили': 'отходить',\n",
       "  'старушки': 'старушка',\n",
       "  'разу': 'раз',\n",
       "  'подойти': 'подойти',\n",
       "  'Молодая': 'молодая',\n",
       "  'работой': 'работа',\n",
       "  'золотом': 'золото',\n",
       "  'бархатном': 'бархатный',\n",
       "  'мешке': 'мешок',\n",
       "  'Ее': 'она',\n",
       "  'хорошенькая': 'хорошенький',\n",
       "  'чуть': 'чуть',\n",
       "  'черневшимися': 'чернеться',\n",
       "  'усиками': 'усик',\n",
       "  'верхняя': 'верхний',\n",
       "  'губка': 'губка',\n",
       "  'коротка': 'короткий',\n",
       "  'зубам': 'зуб',\n",
       "  'тем': 'тем',\n",
       "  'милее': 'милый',\n",
       "  'открывалась': 'открываться',\n",
       "  'вытягивалась': 'вытягиваться',\n",
       "  'опускалась': 'опускаться',\n",
       "  'нижнюю': 'нижний',\n",
       "  'бывает': 'бывать',\n",
       "  'вполне-привлекательных': 'вполне-привлекательный',\n",
       "  'женщин': 'женщина',\n",
       "  'недостаток': 'недостаток',\n",
       "  'короткость': 'короткость',\n",
       "  'губы': 'губа',\n",
       "  'полуоткрытый': 'полуоткрытый',\n",
       "  'рот': 'рота',\n",
       "  'казались': 'казаться',\n",
       "  'особенною': 'особенный',\n",
       "  'собственно': 'собственно',\n",
       "  'красотой': 'красота',\n",
       "  'Всем': 'весь',\n",
       "  'весело': 'весело',\n",
       "  'смотреть': 'смотреть',\n",
       "  'эту': 'этот',\n",
       "  'полную': 'полный',\n",
       "  'здоровья': 'здоровье',\n",
       "  'живости': 'живость',\n",
       "  'хорошенькую': 'хорошенький',\n",
       "  'будущую': 'будущий',\n",
       "  'мать': 'мать',\n",
       "  'легко': 'легко',\n",
       "  'переносившую': 'переносить',\n",
       "  'положение': 'положение',\n",
       "  'Старикам': 'старик',\n",
       "  'мрачным': 'мрачный',\n",
       "  'молодым': 'молодая',\n",
       "  'смотревшим': 'смотреть',\n",
       "  'казалось': 'казалось',\n",
       "  'сами': 'сам',\n",
       "  'делаются': 'делаться',\n",
       "  'похожи': 'похожий',\n",
       "  'побыв': 'побыть',\n",
       "  'поговорив': 'поговорить',\n",
       "  'времени': 'время',\n",
       "  'Кто': 'кто',\n",
       "  'видел': 'видеть',\n",
       "  'каждом': 'каждый',\n",
       "  'светлую': 'светловать',\n",
       "  'улыбочку': 'улыбочка',\n",
       "  'блестящие': 'блестящий',\n",
       "  'белые': 'белые',\n",
       "  'зубы': 'зуб',\n",
       "  'виднелись': 'виднеться',\n",
       "  'беспрестанно': 'беспрестанно',\n",
       "  'тот': 'тот',\n",
       "  'думал': 'думать',\n",
       "  'любезен': 'любезный',\n",
       "  'Маленькая': 'маленький',\n",
       "  'переваливаясь': 'переваливаться',\n",
       "  'маленькими': 'маленький',\n",
       "  'быстрыми': 'быстрый',\n",
       "  'шажками': 'шажок',\n",
       "  'обошла': 'обойти',\n",
       "  'стол': 'стол',\n",
       "  'рабочею': 'рабочий',\n",
       "  'сумочкою': 'сумочка',\n",
       "  'руке': 'рука',\n",
       "  'оправляя': 'оправлять',\n",
       "  'села': 'село',\n",
       "  'диван': 'диван',\n",
       "  'серебряного': 'серебряный',\n",
       "  'самовара': 'самовар',\n",
       "  'делала': 'делать',\n",
       "  'окружавших': 'окружать',\n",
       "  'развертывая': 'развёртывать',\n",
       "  'свой': 'свой',\n",
       "  'ридикюль': 'ридикюль',\n",
       "  'обращаясь': 'обращаться',\n",
       "  'ко': 'к',\n",
       "  'всем': 'весь',\n",
       "  'Смотрите': 'смотреть',\n",
       "  'обратилась': 'обратиться',\n",
       "  'хозяйке': 'хозяйка',\n",
       "  'развела': 'развести',\n",
       "  'руками': 'рука',\n",
       "  'показать': 'показать',\n",
       "  'кружевах': 'кружево',\n",
       "  'серенькое': 'серенький',\n",
       "  'изящное': 'изящный',\n",
       "  'немного': 'немного',\n",
       "  'ниже': 'ниже',\n",
       "  'грудей': 'грудь',\n",
       "  'опоясанное': 'опоясать',\n",
       "  'широкою': 'широкий',\n",
       "  'лентой': 'лента',\n",
       "  'отвечала': 'отвечать',\n",
       "  'генералу': 'генерал',\n",
       "  'Василию': 'василий',\n",
       "  'дожидаясь': 'дожидаться',\n",
       "  'дочери': 'дочь',\n",
       "  'красивой': 'красивый',\n",
       "  'тихо': 'тихо',\n",
       "  'Вскоре': 'вскоре',\n",
       "  'княгини': 'княгиня',\n",
       "  'вошел': 'войти',\n",
       "  'массивный': 'массивный',\n",
       "  'толстый': 'толстый',\n",
       "  'молодой': 'молодая',\n",
       "  'стриженою': 'стриженый',\n",
       "  'головой': 'голова',\n",
       "  'очках': 'очки',\n",
       "  'светлых': 'светлый',\n",
       "  'панталонах': 'панталоны',\n",
       "  'тогдашней': 'тогдашний',\n",
       "  'моде': 'мода',\n",
       "  'высоким': 'высокий',\n",
       "  'жабо': 'жабо',\n",
       "  'коричневом': 'коричневый',\n",
       "  'фраке': 'фрак',\n",
       "  'Этот': 'этот',\n",
       "  'незаконный': 'незаконный',\n",
       "  'знаменитого': 'знаменитый',\n",
       "  'Екатерининского': 'екатерининский',\n",
       "  'вельможи': 'вельможа',\n",
       "  'графа': 'граф',\n",
       "  'Безухого': 'безухий',\n",
       "  'умиравшего': 'умирать',\n",
       "  'Москве': 'москва',\n",
       "  'нигде': 'нигде',\n",
       "  'служил': 'служилый',\n",
       "  'границы': 'граница',\n",
       "  'где': 'где',\n",
       "  'воспитывался': 'воспитываться',\n",
       "  'первый': 'один',\n",
       "  'обществе': 'общество',\n",
       "  'приветствовала': 'приветствовать',\n",
       "  'поклоном': 'поклон',\n",
       "  'относящимся': 'относиться',\n",
       "  'самой': 'самый',\n",
       "  ...},\n",
       " 'dictionary': {'левый': 0,\n",
       "  'николай': 1,\n",
       "  'толстой': 2,\n",
       "  'война': 3,\n",
       "  'и': 4,\n",
       "  'мир': 5,\n",
       "  'тот': 6,\n",
       "  'часть': 7,\n",
       "  'один': 8,\n",
       "  'е': 9,\n",
       "  'поместье': 10,\n",
       "  'мой': 11,\n",
       "  'верный': 12,\n",
       "  'раб': 13,\n",
       "  'ну': 14,\n",
       "  'здравствовать': 15,\n",
       "  'садиться': 16,\n",
       "  'рассказывать': 17,\n",
       "  'так': 18,\n",
       "  'говорить': 19,\n",
       "  'в': 20,\n",
       "  'июль': 21,\n",
       "  'год': 22,\n",
       "  'известный': 23,\n",
       "  'анна': 24,\n",
       "  'павло': 25,\n",
       "  'шерер': 26,\n",
       "  'фрейлина': 27,\n",
       "  'приблизить': 28,\n",
       "  'императрица': 29,\n",
       "  'мария': 30,\n",
       "  'феодоровный': 31,\n",
       "  'встречать': 32,\n",
       "  'важный': 33,\n",
       "  'чиновный': 34,\n",
       "  'князь': 35,\n",
       "  'василий': 36,\n",
       "  'первое': 37,\n",
       "  'приехать': 38,\n",
       "  'на': 39,\n",
       "  'она': 40,\n",
       "  'вечер': 41,\n",
       "  'кашлять': 42,\n",
       "  'несколько': 43,\n",
       "  'день': 44,\n",
       "  'у': 45,\n",
       "  'нея': 46,\n",
       "  'быть': 47,\n",
       "  'грипп': 48,\n",
       "  'как': 49,\n",
       "  'тогда': 50,\n",
       "  'новое': 51,\n",
       "  'слово': 52,\n",
       "  'употребляться': 53,\n",
       "  'только': 54,\n",
       "  'редкий': 55,\n",
       "  'записочка': 56,\n",
       "  'разослать': 57,\n",
       "  'утром': 58,\n",
       "  'с': 59,\n",
       "  'красный': 60,\n",
       "  'лакей': 61,\n",
       "  'написать': 62,\n",
       "  'без': 63,\n",
       "  'различие': 64,\n",
       "  'весь': 65,\n",
       "  'или': 66,\n",
       "  'отвечать': 67,\n",
       "  'нисколько': 68,\n",
       "  'не': 69,\n",
       "  'смутиться': 70,\n",
       "  'такой': 71,\n",
       "  'встреча': 72,\n",
       "  'войти': 73,\n",
       "  'придворный': 74,\n",
       "  'шитый': 75,\n",
       "  'мундир': 76,\n",
       "  'чулок': 77,\n",
       "  'башмак': 78,\n",
       "  'при': 79,\n",
       "  'звезда': 80,\n",
       "  'светлый': 81,\n",
       "  'выражение': 82,\n",
       "  'плоский': 83,\n",
       "  'лицо': 84,\n",
       "  'он': 85,\n",
       "  'изысканный': 86,\n",
       "  'французский': 87,\n",
       "  'язык': 88,\n",
       "  'который': 89,\n",
       "  'но': 90,\n",
       "  'думать': 91,\n",
       "  'наш': 92,\n",
       "  'дед': 93,\n",
       "  'тихий': 94,\n",
       "  'покровительственный': 95,\n",
       "  'интонация': 96,\n",
       "  'свойственный': 97,\n",
       "  'состаревшийся': 98,\n",
       "  'свет': 99,\n",
       "  'двор': 100,\n",
       "  'значительный': 101,\n",
       "  'человек': 102,\n",
       "  'подойти': 103,\n",
       "  'к': 104,\n",
       "  'анне': 105,\n",
       "  'поцеловать': 106,\n",
       "  'рука': 107,\n",
       "  'подставить': 108,\n",
       "  'свой': 109,\n",
       "  'надушить': 110,\n",
       "  'сиять': 111,\n",
       "  'лысина': 112,\n",
       "  'покойно': 113,\n",
       "  'усесться': 114,\n",
       "  'диван': 115,\n",
       "  'успокоить': 116,\n",
       "  'друг': 117,\n",
       "  'сказать': 118,\n",
       "  'изменять': 119,\n",
       "  'голос': 120,\n",
       "  'тон': 121,\n",
       "  'из-за': 122,\n",
       "  'приличие': 123,\n",
       "  'участие': 124,\n",
       "  'просвечивать': 125,\n",
       "  'равнодушие': 126,\n",
       "  'даже': 127,\n",
       "  'насмешка': 128,\n",
       "  'можно': 129,\n",
       "  'здоровый': 130,\n",
       "  'когда': 131,\n",
       "  'нравственно': 132,\n",
       "  'страдать': 133,\n",
       "  'разве': 134,\n",
       "  'оставаться': 135,\n",
       "  'спокойный': 136,\n",
       "  'время': 137,\n",
       "  'есть': 138,\n",
       "  'чувство': 139,\n",
       "  'вы': 140,\n",
       "  'я': 141,\n",
       "  'надеяться': 142,\n",
       "  'а': 143,\n",
       "  'праздник': 144,\n",
       "  'английский': 145,\n",
       "  'посланник': 146,\n",
       "  'нынче': 147,\n",
       "  'середа': 148,\n",
       "  'надо': 149,\n",
       "  'показаться': 150,\n",
       "  'там': 151,\n",
       "  'дочь': 152,\n",
       "  'заехать': 153,\n",
       "  'за': 154,\n",
       "  'повезти': 155,\n",
       "  'что': 156,\n",
       "  'нынешний': 157,\n",
       "  'отменный': 158,\n",
       "  'ежели': 159,\n",
       "  'бы': 160,\n",
       "  'знать': 161,\n",
       "  'это': 162,\n",
       "  'хотеть': 163,\n",
       "  'отменить': 164,\n",
       "  'по': 165,\n",
       "  'привычка': 166,\n",
       "  'завести': 167,\n",
       "  'часы': 168,\n",
       "  'вещий': 169,\n",
       "  'чтобы': 170,\n",
       "  'верить': 171,\n",
       "  'холодное': 172,\n",
       "  'скучать': 173,\n",
       "  'всегда': 174,\n",
       "  'лениво': 175,\n",
       "  'актёр': 176,\n",
       "  'роль': 177,\n",
       "  'старый': 178,\n",
       "  'пиес': 179,\n",
       "  'напротив': 180,\n",
       "  'несмотря': 181,\n",
       "  'сорок': 182,\n",
       "  'преисполнить': 183,\n",
       "  'оживление': 184,\n",
       "  'порыв': 185,\n",
       "  'энтузиастка': 186,\n",
       "  'сделаться': 187,\n",
       "  'общественный': 188,\n",
       "  'положение': 189,\n",
       "  'иногда': 190,\n",
       "  'хотеться': 191,\n",
       "  'обмануть': 192,\n",
       "  'ожидание': 193,\n",
       "  'делаться': 194,\n",
       "  'сдержать': 195,\n",
       "  'улыбка': 196,\n",
       "  'играть': 197,\n",
       "  'постоянно': 198,\n",
       "  'хотя': 199,\n",
       "  'идти': 200,\n",
       "  'отживший': 201,\n",
       "  'черта': 202,\n",
       "  'выражать': 203,\n",
       "  'избаловать': 204,\n",
       "  'ребёнок': 205,\n",
       "  'постоянный': 206,\n",
       "  'сознание': 207,\n",
       "  'милый': 208,\n",
       "  'недостаток': 209,\n",
       "  'от': 210,\n",
       "  'мочь': 211,\n",
       "  'находить': 212,\n",
       "  'нужный': 213,\n",
       "  'исправляться': 214,\n",
       "  'середина': 215,\n",
       "  'разговор': 216,\n",
       "  'про': 217,\n",
       "  'политический': 218,\n",
       "  'действие': 219,\n",
       "  'разгорячиться': 220,\n",
       "  'ах': 221,\n",
       "  'австрия': 222,\n",
       "  'ничто': 223,\n",
       "  'понимать': 224,\n",
       "  'никогда': 225,\n",
       "  'предавать': 226,\n",
       "  'мы': 227,\n",
       "  'россия': 228,\n",
       "  'должный': 229,\n",
       "  'спасительница': 230,\n",
       "  'европа': 231,\n",
       "  'благодетель': 232,\n",
       "  'высокий': 233,\n",
       "  'призвание': 234,\n",
       "  'вот': 235,\n",
       "  'добрый': 236,\n",
       "  'чудный': 237,\n",
       "  'государь': 238,\n",
       "  'предстоять': 239,\n",
       "  'великий': 240,\n",
       "  'добродетельный': 241,\n",
       "  'хороший': 242,\n",
       "  'бог': 243,\n",
       "  'оставить': 244,\n",
       "  'исполнить': 245,\n",
       "  'задавить': 246,\n",
       "  'гидра': 247,\n",
       "  'революция': 248,\n",
       "  'теперь': 249,\n",
       "  'ещё': 250,\n",
       "  'ужасный': 251,\n",
       "  'убийца': 252,\n",
       "  'злодей': 253,\n",
       "  'искупить': 254,\n",
       "  'кровь': 255,\n",
       "  'праведник': 256,\n",
       "  'кто': 257,\n",
       "  'спрашивать': 258,\n",
       "  'англия': 259,\n",
       "  'коммерческий': 260,\n",
       "  'дух': 261,\n",
       "  'понять': 262,\n",
       "  'высота': 263,\n",
       "  'душа': 264,\n",
       "  'император': 265,\n",
       "  'александр': 266,\n",
       "  'отказаться': 267,\n",
       "  'очистить': 268,\n",
       "  'мальта': 269,\n",
       "  'видеть': 270,\n",
       "  'искать': 271,\n",
       "  'задний': 272,\n",
       "  'мысль': 273,\n",
       "  'они': 274,\n",
       "  'новосильцов': 275,\n",
       "  'самоотвержение': 276,\n",
       "  'для': 277,\n",
       "  'себя': 278,\n",
       "  'благо': 279,\n",
       "  'обещать': 280,\n",
       "  'пруссия': 281,\n",
       "  'уж': 282,\n",
       "  'объявить': 283,\n",
       "  'бонапарт': 284,\n",
       "  'непобедимый': 285,\n",
       "  'против': 286,\n",
       "  'ни': 287,\n",
       "  'гарденберг': 288,\n",
       "  'гаугвица': 289,\n",
       "  'судьба': 290,\n",
       "  'спасти': 291,\n",
       "  'вдруг': 292,\n",
       "  'остановиться': 293,\n",
       "  'над': 294,\n",
       "  'горячность': 295,\n",
       "  'улыбаться': 296,\n",
       "  'послать': 297,\n",
       "  'вместо': 298,\n",
       "  'винценгерод': 299,\n",
       "  'взять': 300,\n",
       "  'приступ': 301,\n",
       "  'согласие': 302,\n",
       "  'прусский': 303,\n",
       "  'король': 304,\n",
       "  'красноречивый': 305,\n",
       "  'дать': 306,\n",
       "  'чай': 307,\n",
       "  'сейчас': 308,\n",
       "  'прибавить': 309,\n",
       "  'опять': 310,\n",
       "  'успокоиваться': 311,\n",
       "  'два': 312,\n",
       "  'очень': 313,\n",
       "  'интересный': 314,\n",
       "  'из': 315,\n",
       "  'фамилия': 316,\n",
       "  'франция': 317,\n",
       "  'эмигрант': 318,\n",
       "  'настоящий': 319,\n",
       "  'потом': 320,\n",
       "  'знаете': 321,\n",
       "  'этот': 322,\n",
       "  'глубокий': 323,\n",
       "  'ум': 324,\n",
       "  'принять': 325,\n",
       "  'рад': 326,\n",
       "  'будто': 327,\n",
       "  'вспомнить': 328,\n",
       "  'что-то': 329,\n",
       "  'особенно-небрежно': 330,\n",
       "  'то': 331,\n",
       "  'о': 332,\n",
       "  'чем': 333,\n",
       "  'главный': 334,\n",
       "  'цель': 335,\n",
       "  'посещение': 336,\n",
       "  'правда': 337,\n",
       "  'желать': 338,\n",
       "  'назначение': 339,\n",
       "  'барон': 340,\n",
       "  'функа': 341,\n",
       "  'секретарь': 342,\n",
       "  'вена': 343,\n",
       "  'определить': 344,\n",
       "  'сын': 345,\n",
       "  'место': 346,\n",
       "  'через': 347,\n",
       "  'феодор': 348,\n",
       "  'стараться': 349,\n",
       "  'доставить': 350,\n",
       "  'почти': 351,\n",
       "  'закрыть': 352,\n",
       "  'глаз': 353,\n",
       "  'знак': 354,\n",
       "  'другой': 355,\n",
       "  'судить': 356,\n",
       "  'угодный': 357,\n",
       "  'нравиться': 358,\n",
       "  'грустный': 359,\n",
       "  'сухой': 360,\n",
       "  'назвать': 361,\n",
       "  'представить': 362,\n",
       "  'искренний': 363,\n",
       "  'преданность': 364,\n",
       "  'уважение': 365,\n",
       "  'соединить': 366,\n",
       "  'грусть': 367,\n",
       "  'бывать': 368,\n",
       "  'каждый': 369,\n",
       "  'раз': 370,\n",
       "  'упоминать': 371,\n",
       "  'покровительница': 372,\n",
       "  'величество': 373,\n",
       "  'изволить': 374,\n",
       "  'оказать': 375,\n",
       "  'взгляд': 376,\n",
       "  'подёрнуться': 377,\n",
       "  'равнодушно': 378,\n",
       "  'замолкнуть': 379,\n",
       "  'женский': 380,\n",
       "  'ловкость': 381,\n",
       "  'быстрота': 382,\n",
       "  'такт': 383,\n",
       "  'захотеть': 384,\n",
       "  'щелконуть': 385,\n",
       "  'дерзнуть': 386,\n",
       "  'отозваться': 387,\n",
       "  'рекомендовать': 388,\n",
       "  'же': 389,\n",
       "  'утешить': 390,\n",
       "  'ли': 391,\n",
       "  'ваш': 392,\n",
       "  'пора': 393,\n",
       "  'выезжать': 394,\n",
       "  'наклониться': 395,\n",
       "  'признательность': 396,\n",
       "  'часто': 397,\n",
       "  'продолжать': 398,\n",
       "  'после': 399,\n",
       "  'минутный': 400,\n",
       "  'молчание': 401,\n",
       "  'подвигаться': 402,\n",
       "  'ласково': 403,\n",
       "  'выказывать': 404,\n",
       "  'светский': 405,\n",
       "  'конченый': 406,\n",
       "  'начинаться': 407,\n",
       "  'задушевный': 408,\n",
       "  'несправедливый': 409,\n",
       "  'распределяться': 410,\n",
       "  'счастие': 411,\n",
       "  'жизнь': 412,\n",
       "  'славный': 413,\n",
       "  'исключая': 414,\n",
       "  'анатоль': 415,\n",
       "  'меньшой': 416,\n",
       "  'любить': 417,\n",
       "  'вставить': 418,\n",
       "  'безапелляционно': 419,\n",
       "  'приподнять': 420,\n",
       "  'бровь': 421,\n",
       "  'прелестный': 422,\n",
       "  'право': 423,\n",
       "  'менее': 424,\n",
       "  'ценить': 425,\n",
       "  'потому': 426,\n",
       "  'стоять': 427,\n",
       "  'улыбнуться': 428,\n",
       "  'восторженный': 429,\n",
       "  'перестать': 430,\n",
       "  'шутить': 431,\n",
       "  'серьёзно': 432,\n",
       "  'поговорить': 433,\n",
       "  'недовольный': 434,\n",
       "  'меньший': 435,\n",
       "  'между': 436,\n",
       "  'немой': 437,\n",
       "  'жалеть': 438,\n",
       "  'молча': 439,\n",
       "  'значительно': 440,\n",
       "  'глядеть': 441,\n",
       "  'ждать': 442,\n",
       "  'ответ': 443,\n",
       "  'поморщиться': 444,\n",
       "  'чтоб': 445,\n",
       "  'делать': 446,\n",
       "  'наконец': 447,\n",
       "  'сделать': 448,\n",
       "  'воспитание': 449,\n",
       "  'отец': 450,\n",
       "  'оба': 451,\n",
       "  'выйти': 452,\n",
       "  'ипполит': 453,\n",
       "  'крайний': 454,\n",
       "  'мера': 455,\n",
       "  'покойный': 456,\n",
       "  'дурак': 457,\n",
       "  'беспокойный': 458,\n",
       "  'более': 459,\n",
       "  'неестественно': 460,\n",
       "  'одушевлённый': 461,\n",
       "  'обыкновенно': 462,\n",
       "  'особенно': 463,\n",
       "  'резко': 464,\n",
       "  'сложиться': 465,\n",
       "  'около': 466,\n",
       "  'рот': 467,\n",
       "  'морщина': 468,\n",
       "  'неожиданно-грубый': 469,\n",
       "  'неприятный': 470,\n",
       "  'зачем': 471,\n",
       "  'родиться': 472,\n",
       "  'упрекнуть': 473,\n",
       "  'задумчиво': 474,\n",
       "  'поднимать': 475,\n",
       "  'крест': 476,\n",
       "  'объяснять': 477,\n",
       "  'помолчать': 478,\n",
       "  'жест': 479,\n",
       "  'покорность': 480,\n",
       "  'жестокий': 481,\n",
       "  'задуматься': 482,\n",
       "  'женить': 483,\n",
       "  'блудный': 484,\n",
       "  'говорят': 485,\n",
       "  'старое': 486,\n",
       "  'девица': 487,\n",
       "  'чувствовать': 488,\n",
       "  'слабость': 489,\n",
       "  'несчастливый': 490,\n",
       "  'болконский': 491,\n",
       "  'соображение': 492,\n",
       "  'память': 493,\n",
       "  'показать': 494,\n",
       "  'движение': 495,\n",
       "  'голов': 496,\n",
       "  'сведение': 497,\n",
       "  'нет': 498,\n",
       "  'стоить': 499,\n",
       "  'видимо': 500,\n",
       "  'сила': 501,\n",
       "  'удерживать': 502,\n",
       "  'печальный': 503,\n",
       "  'ход': 504,\n",
       "  'пять': 505,\n",
       "  'если': 506,\n",
       "  'пойти': 507,\n",
       "  'богатый': 508,\n",
       "  'княжна': 509,\n",
       "  'скупой': 510,\n",
       "  'жить': 511,\n",
       "  'деревня': 512,\n",
       "  'отставить': 513,\n",
       "  'прозвать': 514,\n",
       "  'умный': 515,\n",
       "  'странность': 516,\n",
       "  'тяжёлый': 517,\n",
       "  'брат': 518,\n",
       "  'недавно': 519,\n",
       "  'жениться': 520,\n",
       "  'мейнный': 521,\n",
       "  'адъютант': 522,\n",
       "  'кутузов': 523,\n",
       "  'собеседница': 524,\n",
       "  'пригибать': 525,\n",
       "  'почему-то': 526,\n",
       "  'книзу': 527,\n",
       "  'староста': 528,\n",
       "  'донесение': 529,\n",
       "  'покой-ер-п': 530,\n",
       "  'хорошеть': 531,\n",
       "  'нужно': 532,\n",
       "  'свободный': 533,\n",
       "  'фамильярный': 534,\n",
       "  'грациозный': 535,\n",
       "  'отличать': 536,\n",
       "  'помахать': 537,\n",
       "  'фрейлинский': 538,\n",
       "  'развалиться': 539,\n",
       "  'кресло': 540,\n",
       "  'сторона': 541,\n",
       "  'соображать': 542,\n",
       "  'уладиться': 543,\n",
       "  'гостиный': 544,\n",
       "  'начало': 545,\n",
       "  'понемногу': 546,\n",
       "  'наполняться': 547,\n",
       "  'петербург': 548,\n",
       "  'самый': 549,\n",
       "  'разнородный': 550,\n",
       "  'возраст': 551,\n",
       "  'характер': 552,\n",
       "  'одинаковый': 553,\n",
       "  'общество': 554,\n",
       "  'какой': 555,\n",
       "  'красавица': 556,\n",
       "  'элен': 557,\n",
       "  'вместе': 558,\n",
       "  'ехать': 559,\n",
       "  'шифр': 560,\n",
       "  'бальный': 561,\n",
       "  'платье': 562,\n",
       "  'молодая': 563,\n",
       "  'маленький': 564,\n",
       "  'княгиня': 565,\n",
       "  'прошлый': 566,\n",
       "  'зима': 567,\n",
       "  'замуж': 568,\n",
       "  'большой': 569,\n",
       "  'причина': 570,\n",
       "  'беременность': 571,\n",
       "  'ездить': 572,\n",
       "  'небольшой': 573,\n",
       "  'мортемар': 574,\n",
       "  'аббат': 575,\n",
       "  'морио': 576,\n",
       "  'многие': 577,\n",
       "  'видать': 578,\n",
       "  'знакомый': 579,\n",
       "  'приезжать': 580,\n",
       "  'гость': 581,\n",
       "  'весьма': 582,\n",
       "  'подводить': 583,\n",
       "  'маленькая': 584,\n",
       "  'старушка': 585,\n",
       "  'бант': 586,\n",
       "  'выплыть': 587,\n",
       "  'комната': 588,\n",
       "  'скоро': 589,\n",
       "  'стать': 590,\n",
       "  'называть': 591,\n",
       "  'имя': 592,\n",
       "  'медленно': 593,\n",
       "  'переводить': 594,\n",
       "  'отходить': 595,\n",
       "  'совершать': 596,\n",
       "  'обряд': 597,\n",
       "  'приветствование': 598,\n",
       "  'никто': 599,\n",
       "  'неизвестный': 600,\n",
       "  'неинтересный': 601,\n",
       "  'ненужный': 602,\n",
       "  'тётушка': 603,\n",
       "  'торжественный': 604,\n",
       "  'следить': 605,\n",
       "  'приветствие': 606,\n",
       "  'молчаливо': 607,\n",
       "  'одобрять': 608,\n",
       "  'здоровье': 609,\n",
       "  'слава': 610,\n",
       "  'подходить': 611,\n",
       "  'поспешность': 612,\n",
       "  'облегчение': 613,\n",
       "  'обязанность': 614,\n",
       "  'работа': 615,\n",
       "  'золото': 616,\n",
       "  'бархатный': 617,\n",
       "  'мешок': 618,\n",
       "  'хорошенький': 619,\n",
       "  'чуть': 620,\n",
       "  'чернеться': 621,\n",
       "  'усик': 622,\n",
       "  'верхний': 623,\n",
       "  'губка': 624,\n",
       "  'короткий': 625,\n",
       "  'зуб': 626,\n",
       "  'тем': 627,\n",
       "  'открываться': 628,\n",
       "  'вытягиваться': 629,\n",
       "  'опускаться': 630,\n",
       "  'нижний': 631,\n",
       "  'вполне-привлекательный': 632,\n",
       "  'женщина': 633,\n",
       "  'короткость': 634,\n",
       "  'губа': 635,\n",
       "  'полуоткрытый': 636,\n",
       "  'рота': 637,\n",
       "  'казаться': 638,\n",
       "  'особенный': 639,\n",
       "  'собственно': 640,\n",
       "  'красота': 641,\n",
       "  'весело': 642,\n",
       "  'смотреть': 643,\n",
       "  'полный': 644,\n",
       "  'живость': 645,\n",
       "  'будущий': 646,\n",
       "  'мать': 647,\n",
       "  'легко': 648,\n",
       "  'переносить': 649,\n",
       "  'старик': 650,\n",
       "  'мрачный': 651,\n",
       "  'казалось': 652,\n",
       "  'сам': 653,\n",
       "  'похожий': 654,\n",
       "  'побыть': 655,\n",
       "  'светловать': 656,\n",
       "  'улыбочка': 657,\n",
       "  'блестящий': 658,\n",
       "  'белые': 659,\n",
       "  'виднеться': 660,\n",
       "  'беспрестанно': 661,\n",
       "  'любезный': 662,\n",
       "  'переваливаться': 663,\n",
       "  'быстрый': 664,\n",
       "  'шажок': 665,\n",
       "  'обойти': 666,\n",
       "  'стол': 667,\n",
       "  'рабочий': 668,\n",
       "  'сумочка': 669,\n",
       "  'оправлять': 670,\n",
       "  'село': 671,\n",
       "  'серебряный': 672,\n",
       "  'самовар': 673,\n",
       "  'окружать': 674,\n",
       "  'развёртывать': 675,\n",
       "  'ридикюль': 676,\n",
       "  'обращаться': 677,\n",
       "  'обратиться': 678,\n",
       "  'хозяйка': 679,\n",
       "  'развести': 680,\n",
       "  'кружево': 681,\n",
       "  'серенький': 682,\n",
       "  'изящный': 683,\n",
       "  'немного': 684,\n",
       "  'ниже': 685,\n",
       "  'грудь': 686,\n",
       "  'опоясать': 687,\n",
       "  'широкий': 688,\n",
       "  'лента': 689,\n",
       "  'генерал': 690,\n",
       "  'дожидаться': 691,\n",
       "  'красивый': 692,\n",
       "  'тихо': 693,\n",
       "  'вскоре': 694,\n",
       "  'массивный': 695,\n",
       "  'толстый': 696,\n",
       "  'стриженый': 697,\n",
       "  'голова': 698,\n",
       "  'очки': 699,\n",
       "  'панталоны': 700,\n",
       "  'тогдашний': 701,\n",
       "  'мода': 702,\n",
       "  'жабо': 703,\n",
       "  'коричневый': 704,\n",
       "  'фрак': 705,\n",
       "  'незаконный': 706,\n",
       "  'знаменитый': 707,\n",
       "  'екатерининский': 708,\n",
       "  'вельможа': 709,\n",
       "  'граф': 710,\n",
       "  'безухий': 711,\n",
       "  'умирать': 712,\n",
       "  'москва': 713,\n",
       "  'нигде': 714,\n",
       "  'служилый': 715,\n",
       "  'граница': 716,\n",
       "  'где': 717,\n",
       "  'воспитываться': 718,\n",
       "  'приветствовать': 719,\n",
       "  'поклон': 720,\n",
       "  'относиться': 721,\n",
       "  'низкий': 722,\n",
       "  'иерархия': 723,\n",
       "  'салон': 724,\n",
       "  'сорт': 725,\n",
       "  'вид': 726,\n",
       "  'пьер': 727,\n",
       "  'изобразиться': 728,\n",
       "  'беспокойство': 729,\n",
       "  'страх': 730,\n",
       "  'подобный': 731,\n",
       "  'выражаться': 732,\n",
       "  'что-нибудь': 733,\n",
       "  'слишком': 734,\n",
       "  'огромный': 735,\n",
       "  'несвойственный': 736,\n",
       "  'действительно': 737,\n",
       "  'мужчина': 738,\n",
       "  'робкий': 739,\n",
       "  'наблюдательный': 740,\n",
       "  'естественный': 741,\n",
       "  'испуганно': 742,\n",
       "  'переглядываться': 743,\n",
       "  'пробурлить': 744,\n",
       "  'непонятный': 745,\n",
       "  'отыскивать': 746,\n",
       "  'радостно': 747,\n",
       "  'кланяться': 748,\n",
       "  'близкий': 749,\n",
       "  'напрасный': 750,\n",
       "  'дослушать': 751,\n",
       "  'речь': 752,\n",
       "  'отойти': 753,\n",
       "  'остановить': 754,\n",
       "  'да': 755,\n",
       "  'слышать': 756,\n",
       "  'план': 757,\n",
       "  'вечный': 758,\n",
       "  'интересно': 759,\n",
       "  'едва': 760,\n",
       "  'возможно': 761,\n",
       "  'вновь': 762,\n",
       "  'занятие': 763,\n",
       "  'дом': 764,\n",
       "  'обратный': 765,\n",
       "  'неучтивость': 766,\n",
       "  'прежде': 767,\n",
       "  'уйти': 768,\n",
       "  'нагнуть': 769,\n",
       "  'расставить': 770,\n",
       "  'нога': 771,\n",
       "  'доказывать': 772,\n",
       "  'почему': 773,\n",
       "  'полагать': 774,\n",
       "  'химера': 775,\n",
       "  'отделаться': 776,\n",
       "  'молодой': 777,\n",
       "  'уметь': 778,\n",
       "  'возвратиться': 779,\n",
       "  'прислушиваться': 780,\n",
       "  'приглядываться': 781,\n",
       "  'готовый': 782,\n",
       "  'подать': 783,\n",
       "  'помощь': 784,\n",
       "  'пункт': 785,\n",
       "  'ослабевать': 786,\n",
       "  'хозяин': 787,\n",
       "  'прядильный': 788,\n",
       "  'мастерский': 789,\n",
       "  'посадить': 790,\n",
       "  'работник': 791,\n",
       "  'прохаживаться': 792,\n",
       "  'заведение': 793,\n",
       "  'замечать': 794,\n",
       "  'неподвижность': 795,\n",
       "  'непривычный': 796,\n",
       "  'скрипеть': 797,\n",
       "  'громкий': 798,\n",
       "  'звук': 799,\n",
       "  'веретено': 800,\n",
       "  'торопливо': 801,\n",
       "  'сдерживать': 802,\n",
       "  'пускать': 803,\n",
       "  'надлежащий': 804,\n",
       "  'много': 805,\n",
       "  'кружка': 806,\n",
       "  'перемещение': 807,\n",
       "  'заводила': 808,\n",
       "  'равномерный': 809,\n",
       "  'приличный': 810,\n",
       "  'разговорный': 811,\n",
       "  'машина': 812,\n",
       "  'среди': 813,\n",
       "  'забота': 814,\n",
       "  'видный': 815,\n",
       "  'заботливо': 816,\n",
       "  'поглядывать': 817,\n",
       "  'послушать': 818,\n",
       "  'говориться': 819,\n",
       "  'мортемара': 820,\n",
       "  'воспитанный': 821,\n",
       "  'тут': 822,\n",
       "  'собрать': 823,\n",
       "  'интеллигенция': 824,\n",
       "  'игрушечный': 825,\n",
       "  'лавка': 826,\n",
       "  'разбегаться': 827,\n",
       "  'бояться': 828,\n",
       "  'пропустить': 829,\n",
       "  'услыхать': 830,\n",
       "  'уверенный': 831,\n",
       "  'собранный': 832,\n",
       "  'здесь': 833,\n",
       "  'ожидать': 834,\n",
       "  'случай': 835,\n",
       "  'высказать': 836,\n",
       "  'пустить': 837,\n",
       "  'разный': 838,\n",
       "  'равномерно': 839,\n",
       "  'умолкать': 840,\n",
       "  'шуметь': 841,\n",
       "  'кроме': 842,\n",
       "  'сидеть': 843,\n",
       "  'пожилой': 844,\n",
       "  'дама': 845,\n",
       "  'исплакать': 846,\n",
       "  'худой': 847,\n",
       "  'чужой': 848,\n",
       "  'разбиться': 849,\n",
       "  'три': 850,\n",
       "  'мужской': 851,\n",
       "  'центр': 852,\n",
       "  'красавица-княжна': 853,\n",
       "  'румяный': 854,\n",
       "  'молодость': 855,\n",
       "  'третье': 856,\n",
       "  'виконт': 857,\n",
       "  'миловидный': 858,\n",
       "  'мягкий': 859,\n",
       "  'приём': 860,\n",
       "  'очевидно': 861,\n",
       "  'считать': 862,\n",
       "  'знаменитость': 863,\n",
       "  'благовоспитанность': 864,\n",
       "  'скромно': 865,\n",
       "  'предоставлять': 866,\n",
       "  'пользоваться': 867,\n",
       "  'находиться': 868,\n",
       "  'угощать': 869,\n",
       "  'метрд': 870,\n",
       "  'отель': 871,\n",
       "  'подавать': 872,\n",
       "  'нечто': 873,\n",
       "  'сверхъестественно-прекрасный': 874,\n",
       "  'кусок': 875,\n",
       "  'говядина': 876,\n",
       "  'захотеться': 877,\n",
       "  'увидать': 878,\n",
       "  'грязный': 879,\n",
       "  'кухня': 880,\n",
       "  'сервировать': 881,\n",
       "  'сначала': 882,\n",
       "  'сверхъестественный': 883,\n",
       "  'утончённый': 884,\n",
       "  'заговорить': 885,\n",
       "  'тотчас': 886,\n",
       "  'убиение': 887,\n",
       "  'герцог': 888,\n",
       "  'энгиенский': 889,\n",
       "  'погибнуть': 890,\n",
       "  'великодушие': 891,\n",
       "  'озлобление': 892,\n",
       "  'радость': 893,\n",
       "  'отзываться': 894,\n",
       "  'фраза': 895,\n",
       "  'поклониться': 896,\n",
       "  'учтивый': 897,\n",
       "  'круг': 898,\n",
       "  'пригласить': 899,\n",
       "  'слушать': 900,\n",
       "  'рассказ': 901,\n",
       "  'шепнуть': 902,\n",
       "  'проговорить': 903,\n",
       "  'выгодный': 904,\n",
       "  'ростбиф': 905,\n",
       "  'горячее': 906,\n",
       "  'блюдо': 907,\n",
       "  'посыпать': 908,\n",
       "  'зелень': 909,\n",
       "  'уже': 910,\n",
       "  'начать': 911,\n",
       "  'тонко': 912,\n",
       "  'переходить': 913,\n",
       "  'сюда': 914,\n",
       "  'поодаль': 915,\n",
       "  'составлять': 916,\n",
       "  'подняться': 917,\n",
       "  'той': 918,\n",
       "  'неизменяться': 919,\n",
       "  'вполне': 920,\n",
       "  'котора': 921,\n",
       "  'слегка': 922,\n",
       "  'бела': 923,\n",
       "  'роба': 924,\n",
       "  'убрать': 925,\n",
       "  'плющий': 926,\n",
       "  'мохома': 927,\n",
       "  'блестеть': 928,\n",
       "  'белизна': 929,\n",
       "  'плечо': 930,\n",
       "  'глянец': 931,\n",
       "  'волос': 932,\n",
       "  'брильянт': 933,\n",
       "  'пройти': 934,\n",
       "  'расступиться': 935,\n",
       "  'прямо': 936,\n",
       "  'любезно': 937,\n",
       "  'любоваться': 938,\n",
       "  'стан': 939,\n",
       "  'открытый': 940,\n",
       "  'спина': 941,\n",
       "  'вносить': 942,\n",
       "  'блеск': 943,\n",
       "  'бал': 944,\n",
       "  'заметно': 945,\n",
       "  'тенить': 946,\n",
       "  'кокетство': 947,\n",
       "  'совестно': 948,\n",
       "  'несомненный': 949,\n",
       "  'сильно': 950,\n",
       "  'победительно-действующий': 951,\n",
       "  'умалить': 952,\n",
       "  'поразить': 953,\n",
       "  'необычайный': 954,\n",
       "  'пожать': 955,\n",
       "  'опустить': 956,\n",
       "  'усаживаться': 957,\n",
       "  'перед': 958,\n",
       "  'освещать': 959,\n",
       "  'неизменный': 960,\n",
       "  'наклонять': 961,\n",
       "  'облокотить': 962,\n",
       "  'столик': 963,\n",
       "  'найти': 964,\n",
       "  'что-либо': 965,\n",
       "  'посматривать': 966,\n",
       "  'изредка': 967,\n",
       "  'давление': 968,\n",
       "  'изменить': 969,\n",
       "  'форма': 970,\n",
       "  'поправлять': 971,\n",
       "  'брильянтовый': 972,\n",
       "  'ожерелие': 973,\n",
       "  'складка': 974,\n",
       "  'производить': 975,\n",
       "  'впечатление': 976,\n",
       "  'оглядываться': 977,\n",
       "  'принимать': 978,\n",
       "  'вслед': 979,\n",
       "  'перейти': 980,\n",
       "  'чайный': 981,\n",
       "  'произвести': 982,\n",
       "  'перестановка': 983,\n",
       "  'оправиться': 984,\n",
       "  'хорошо': 985,\n",
       "  'приговаривать': 986,\n",
       "  'попросить': 987,\n",
       "  'начинать': 988,\n",
       "  'приняться': 989,\n",
       "  'перенести': 990,\n",
       "  'близко': 991,\n",
       "  'придвинуть': 992,\n",
       "  'сесть': 993,\n",
       "  'подле': 994,\n",
       "  'поражать': 995,\n",
       "  'необыкновенный': 996,\n",
       "  'сходство': 997,\n",
       "  'сестра-красавица': 998,\n",
       "  'поразительно': 999,\n",
       "  ...},\n",
       " 'morpho': <pymorphy2.analyzer.MorphAnalyzer at 0x7ff28ce1d128>}"
      ]
     },
     "execution_count": 94,
     "metadata": {},
     "output_type": "execute_result"
    }
   ],
   "source": [
    "faster3.__dict__"
   ]
  },
  {
   "cell_type": "markdown",
   "metadata": {},
   "source": [
    "Теперь добавим объекту несколько новых полей и функций и посмотрим как изменится список (при помощи оператора -)."
   ]
  },
  {
   "cell_type": "code",
   "execution_count": 17,
   "metadata": {},
   "outputs": [],
   "source": [
    "faster5=FasterMorphology2()\n",
    "faster4=FasterMorphology2()\n",
    "faster4.dummy=0"
   ]
  },
  {
   "cell_type": "code",
   "execution_count": 18,
   "metadata": {},
   "outputs": [
    {
     "data": {
      "text/plain": [
       "{'dummy'}"
      ]
     },
     "execution_count": 18,
     "metadata": {},
     "output_type": "execute_result"
    }
   ],
   "source": [
    "set(dir(faster4))-set(dir(faster5))"
   ]
  },
  {
   "cell_type": "markdown",
   "metadata": {},
   "source": [
    "Допустим, нам вдруг захотелось, чтобы faster4 начал считать Евклидово расстояние. Для этого добавим в объект соответствующую функцию."
   ]
  },
  {
   "cell_type": "code",
   "execution_count": 21,
   "metadata": {},
   "outputs": [],
   "source": [
    "def EuclideDistance(self, a, b):\n",
    "    return math.sqrt(sum([aa*bb for aa, bb in zip(a, b)]))\n",
    "\n",
    "faster4.EuclidianSimilarity=EuclideDistance"
   ]
  },
  {
   "cell_type": "code",
   "execution_count": 25,
   "metadata": {},
   "outputs": [
    {
     "ename": "TypeError",
     "evalue": "EuclideDistance() missing 1 required positional argument: 'b'",
     "output_type": "error",
     "traceback": [
      "\u001b[0;31m---------------------------------------------------------------------------\u001b[0m",
      "\u001b[0;31mTypeError\u001b[0m                                 Traceback (most recent call last)",
      "\u001b[0;32m<ipython-input-25-8e393221bb6a>\u001b[0m in \u001b[0;36m<module>\u001b[0;34m()\u001b[0m\n\u001b[0;32m----> 1\u001b[0;31m \u001b[0mfaster4\u001b[0m\u001b[0;34m.\u001b[0m\u001b[0mEuclidianSimilarity\u001b[0m\u001b[0;34m(\u001b[0m\u001b[0;34m[\u001b[0m\u001b[0;36m1\u001b[0m\u001b[0;34m,\u001b[0m\u001b[0;36m2\u001b[0m\u001b[0;34m,\u001b[0m\u001b[0;36m3\u001b[0m\u001b[0;34m]\u001b[0m\u001b[0;34m,\u001b[0m \u001b[0;34m[\u001b[0m\u001b[0;36m3\u001b[0m\u001b[0;34m,\u001b[0m\u001b[0;36m4\u001b[0m\u001b[0;34m,\u001b[0m\u001b[0;36m5\u001b[0m\u001b[0;34m]\u001b[0m\u001b[0;34m)\u001b[0m\u001b[0;34m\u001b[0m\u001b[0m\n\u001b[0m",
      "\u001b[0;31mTypeError\u001b[0m: EuclideDistance() missing 1 required positional argument: 'b'"
     ]
    }
   ],
   "source": [
    "faster4.EuclidianSimilarity([1,2,3], [3,4,5])"
   ]
  },
  {
   "cell_type": "markdown",
   "metadata": {},
   "source": [
    "Что-то опять пошло не так. Оказывается в Питоне функции отличаются от методов класса."
   ]
  },
  {
   "cell_type": "code",
   "execution_count": 26,
   "metadata": {},
   "outputs": [
    {
     "name": "stdout",
     "output_type": "stream",
     "text": [
      "<bound method FasterMorphology2.analyzeWords of <__main__.FasterMorphology2 object at 0x7ff2af3d7358>>\n",
      "<function EuclideDistance at 0x7ff2ad78dae8>\n"
     ]
    }
   ],
   "source": [
    "print(faster4.analyzeWords)\n",
    "print(faster4.EuclidianSimilarity)"
   ]
  },
  {
   "cell_type": "markdown",
   "metadata": {},
   "source": [
    "Чтобы привязать метод к отдельному объекту необходимо вызвать специальную функцию."
   ]
  },
  {
   "cell_type": "code",
   "execution_count": 27,
   "metadata": {},
   "outputs": [],
   "source": [
    "import types"
   ]
  },
  {
   "cell_type": "code",
   "execution_count": 28,
   "metadata": {},
   "outputs": [],
   "source": [
    "faster4.EuclidianSimilarity=types.MethodType(EuclideDistance, faster4)"
   ]
  },
  {
   "cell_type": "markdown",
   "metadata": {},
   "source": [
    "А вот поменять класс целиком довольно просто."
   ]
  },
  {
   "cell_type": "code",
   "execution_count": 31,
   "metadata": {},
   "outputs": [
    {
     "name": "stdout",
     "output_type": "stream",
     "text": [
      "set()\n"
     ]
    }
   ],
   "source": [
    "class forTests:\n",
    "\n",
    "    def __init__(self):\n",
    "        self.aha=0\n",
    "        self.uhu=1\n",
    "\n",
    "test1=forTests()\n",
    "dir(test1)\n",
    "\n",
    "def dummyFunc(self):\n",
    "    return 0\n",
    "\n",
    "forTests.dummy=dummyFunc\n",
    "\n",
    "test2=forTests()\n",
    "\n",
    "print(set(dir(test1))-set(dir(test2)))"
   ]
  },
  {
   "cell_type": "markdown",
   "metadata": {},
   "source": [
    "Но обратите внимание, метод появился теперь у всех объектов данного класса."
   ]
  }
 ],
 "metadata": {
  "kernelspec": {
   "display_name": "Python 3",
   "language": "python",
   "name": "python3"
  },
  "language_info": {
   "codemirror_mode": {
    "name": "ipython",
    "version": 3
   },
   "file_extension": ".py",
   "mimetype": "text/x-python",
   "name": "python",
   "nbconvert_exporter": "python",
   "pygments_lexer": "ipython3",
   "version": "3.6.8"
  }
 },
 "nbformat": 4,
 "nbformat_minor": 2
}
